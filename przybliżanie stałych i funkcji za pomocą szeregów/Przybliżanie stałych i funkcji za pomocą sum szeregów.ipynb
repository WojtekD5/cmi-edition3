{
 "cells": [
  {
   "cell_type": "markdown",
   "metadata": {},
   "source": [
    "# W czym rzecz\n",
    "\n",
    "Czym jest programowanie komputera? Być może jest to bardzo proste, ale jednocześnie bardzo głębokie, pytanie - o znaczących reperkusjach. Można by przyjąć, że jest to bardzo podobne do uczenia. Programista analizuje czynność lub inną składową, a następnie uczy komputer jak ją wykonać, lub w czym leży istota rzeczy. Jeśli umie coś wykonać programista - może nauczyć tego komputer. A tego co umie komputer musiał nauczyć go pewien programista. Jeśli byśmy chcieli nauczyć komputer obliczać rozwiązanie równania liniowego $ax+b = y$ wystarczy napisać"
   ]
  },
  {
   "cell_type": "code",
   "execution_count": 1,
   "metadata": {},
   "outputs": [
    {
     "data": {
      "text/plain": [
       "-1.0"
      ]
     },
     "execution_count": 1,
     "metadata": {},
     "output_type": "execute_result"
    }
   ],
   "source": [
    "def solve_linear(a,b,y):\n",
    "    if a==0 and b != y :\n",
    "        return None\n",
    "    elif a==0 and b == y:\n",
    "        return (float('-inf'), float('inf'))\n",
    "    else:\n",
    "        return (y-b) / a\n",
    "\n",
    "solve_linear(1,3,2)"
   ]
  },
  {
   "cell_type": "markdown",
   "metadata": {},
   "source": [
    "Przyjrzyjmy się teraz trudniejszemu zadaniu. Jak obliczyć wartość $e^2$ ? Ha trywialne !! Wystarczy napisać\n"
   ]
  },
  {
   "cell_type": "code",
   "execution_count": 2,
   "metadata": {},
   "outputs": [
    {
     "data": {
      "text/plain": [
       "7.38905609893065"
      ]
     },
     "execution_count": 2,
     "metadata": {},
     "output_type": "execute_result"
    }
   ],
   "source": [
    "import math\n",
    "math.exp(2.0)"
   ]
  },
  {
   "cell_type": "markdown",
   "metadata": {},
   "source": [
    "Zauważmy jednak dwie istotne rzeczy w takim podejściu\n",
    "\n",
    "* Liczba $e^2$ jest liczbą niewymierną - zatem na pewno nie jest dokładnie tą liczbą powyżej. Komputer przecież nigdy nie będzie mieć dość pamięci, aby zaprezentować wszystkie cyfry (jest ich oczywiście nieskończenie wiele) liczby niewymiernej. Zatem oczywiście jest to jedynie pewne przybliżenie prawdziwej wartości (w sumie niewiemy nawet jak bardzo dokładne)\n",
    "* Ponadto jeśli w pewnej bibliotece istnieje funkcja exp, to ktoś ją musiał napisać. Ktoś musiał nauczyć komputer jak policzyć tę wartość (to przybliżenie). Najciekawsze jednak jest to, że w sumie w tej chwili nie wiemy jak je policzyć samodzielnie na kartce. (**Najwięksi spryciarze by pewnie zaczęli od przypomnienia, że $2.71 \\leq e \\leq 2.72$ policzyli kwadrat obustron, jako że $e^x$ jest rosnąca to otrzymaliby pewne przybliżenie. Jednak nawet by to kontynuować trzeba by mieć lepsza dokładność liczby $e$ **)\n",
    "\n",
    "W tej lekcji pokażemy jak działają (jakie techniki zastosowali programisci przy obliczeniu/pisaniu) obliczenia skomplikowanych funkcji elementarnych oraz w jaki sposób zostały policzone przybliżenia ważnych stałych.\n",
    "\n"
   ]
  },
  {
   "cell_type": "markdown",
   "metadata": {},
   "source": [
    "# Ważne stałe programowania\n",
    "\n",
    "Na początek może zaskakująca uwaga. Jeśli w programowaniu będziemy chcieli wykorzystać pewną stałą np. liczbę e - to co się stanie? Zostanie uruchomiona pewna funkcja do jej obliczenia? Otóż, nie. Stałe które otrzymamy w takim podejściu były wprowadzone. W artymetyce zmiennoprzecinkowej typ danych float (float64, double) pozwala na posiadanie do 16-17 cyfr znaczących w liczbie. I wszystkie ważne stałe zostały wprowadzone 'z palca' przez programistę. Czemu użyto takiego wprowadzenia? Aby nie powielać obliczeń, które byłyby ciągle dokładnie w ten sam sposób ponawiane. Mamy więc optymalność użycia.\n",
    "\n",
    "Zupełnie innnym pytaniem jest natomiast skąd w ogóle wzięto te wartości - czyli pytanie o sposoby przybliżania tych stałych."
   ]
  },
  {
   "cell_type": "code",
   "execution_count": 3,
   "metadata": {},
   "outputs": [
    {
     "data": {
      "text/plain": [
       "2.718281828459045"
      ]
     },
     "execution_count": 3,
     "metadata": {},
     "output_type": "execute_result"
    }
   ],
   "source": [
    "import math\n",
    "math.e"
   ]
  },
  {
   "cell_type": "markdown",
   "metadata": {},
   "source": [
    "## Podstawa logarytmu naturalne, liczba Neppera, liczba eulera\n",
    "\n",
    "### Granica ciągu\n",
    "\n",
    "Naszą przygodę z przybliżaniem liczb rozpoczniemy od liczby $e$. Jak wiadomo z definicji matematycznej liczba ta spełnia warunek\n",
    "\n",
    "$$\n",
    "e = \\lim_{n \\to \\infty} \\left( 1 + \\frac{1}{n} \\right)^n.\n",
    "$$\n",
    "\n",
    "Możemy zatem pokusić się o obliczanie kolejnych wartości ciągu i obserwowanie obliczeń."
   ]
  },
  {
   "cell_type": "code",
   "execution_count": 1,
   "metadata": {},
   "outputs": [],
   "source": [
    "def e_ciagiem(n):\n",
    "    return (1.0+1.0/n)**n # 1 + 1 + n-1 = n+1"
   ]
  },
  {
   "cell_type": "markdown",
   "metadata": {},
   "source": [
    "Zobaczmy jak teraz wyglądają wyniki tych rachunków"
   ]
  },
  {
   "cell_type": "code",
   "execution_count": 2,
   "metadata": {},
   "outputs": [
    {
     "name": "stdout",
     "output_type": "stream",
     "text": [
      "Przybliżenie 1 wynosi 2.0\n",
      "Przybliżenie 2 wynosi 2.25\n",
      "Przybliżenie 3 wynosi 2.37037037037037\n",
      "Przybliżenie 4 wynosi 2.44140625\n",
      "Przybliżenie 5 wynosi 2.4883199999999994\n",
      "Przybliżenie 6 wynosi 2.5216263717421135\n",
      "Przybliżenie 7 wynosi 2.546499697040712\n",
      "Przybliżenie 8 wynosi 2.565784513950348\n",
      "Przybliżenie 9 wynosi 2.5811747917131984\n",
      "Przybliżenie 10 wynosi 2.5937424601000023\n",
      "Przybliżenie 11 wynosi 2.6041990118975287\n",
      "Przybliżenie 12 wynosi 2.613035290224676\n",
      "Przybliżenie 13 wynosi 2.6206008878857308\n",
      "Przybliżenie 14 wynosi 2.6271515563008685\n",
      "Przybliżenie 15 wynosi 2.6328787177279187\n",
      "Przybliżenie 16 wynosi 2.6379284973666\n",
      "Przybliżenie 17 wynosi 2.64241437518311\n",
      "Przybliżenie 18 wynosi 2.6464258210976865\n",
      "Przybliżenie 19 wynosi 2.650034326640442\n",
      "Przybliżenie 20 wynosi 2.653297705144422\n",
      "Przybliżenie 21 wynosi 2.656263213926108\n",
      "Przybliżenie 22 wynosi 2.658969858537786\n",
      "Przybliżenie 23 wynosi 2.6614501186387796\n",
      "Przybliżenie 24 wynosi 2.663731258068599\n",
      "Przybliżenie 25 wynosi 2.665836331487422\n",
      "Przybliżenie 26 wynosi 2.6677849665337465\n",
      "Przybliżenie 27 wynosi 2.6695939778125704\n",
      "Przybliżenie 28 wynosi 2.6712778534408463\n",
      "Przybliżenie 29 wynosi 2.6728491439808066\n",
      "Przybliżenie 30 wynosi 2.6743187758703026\n",
      "Przybliżenie 31 wynosi 2.6756963059146854\n",
      "Przybliżenie 32 wynosi 2.676990129378183\n",
      "Przybliżenie 33 wynosi 2.678207651253779\n",
      "Przybliżenie 34 wynosi 2.6793554280957674\n",
      "Przybliżenie 35 wynosi 2.6804392861534603\n",
      "Przybliżenie 36 wynosi 2.6814644203008586\n",
      "Przybliżenie 37 wynosi 2.6824354773085255\n",
      "Przybliżenie 38 wynosi 2.6833566262745787\n",
      "Przybliżenie 39 wynosi 2.6842316184670922\n"
     ]
    }
   ],
   "source": [
    "for i in range(1,40):\n",
    "    print(f'Przybliżenie {i} wynosi {e_ciagiem(i)}')"
   ]
  },
  {
   "cell_type": "code",
   "execution_count": 3,
   "metadata": {},
   "outputs": [
    {
     "data": {
      "text/plain": [
       "2.718281828459045"
      ]
     },
     "execution_count": 3,
     "metadata": {},
     "output_type": "execute_result"
    }
   ],
   "source": [
    "import math\n",
    "math.e"
   ]
  },
  {
   "cell_type": "code",
   "execution_count": 6,
   "metadata": {},
   "outputs": [
    {
     "data": {
      "text/plain": [
       "2.7181459268249255"
      ]
     },
     "execution_count": 6,
     "metadata": {},
     "output_type": "execute_result"
    }
   ],
   "source": [
    "e_ciagiem(10000)"
   ]
  },
  {
   "cell_type": "markdown",
   "metadata": {},
   "source": [
    "Widzimy zatem, że nawet biorąc 40 pierwszy przybliżeń - nie udało nam się uzyskać przybliżenia lepszego niż rzędu $0.1$"
   ]
  },
  {
   "cell_type": "code",
   "execution_count": 6,
   "metadata": {},
   "outputs": [
    {
     "name": "stdout",
     "output_type": "stream",
     "text": [
      "Przybliżenie 1000 wynosi 2.7169239322355936\n"
     ]
    }
   ],
   "source": [
    "print(f'Przybliżenie {1000} wynosi {e_ciagiem(1000)}')"
   ]
  },
  {
   "cell_type": "markdown",
   "metadata": {},
   "source": [
    "Zastanówmy się też chwilę nad złożonością obliczeniową naszego rozwiązania. Początkowo wykonujemy jedno dzielenie oraz jedno dodawania. Czyli 2 operacje. Potem jednak dokonujemy potęgowania. Rozsądnie jest przyjąć, że potęgowanie oznaczać będzie $n-1$ mnożeń. Co łącznie daje $n+1$ operacji zmiennoprzecinkowych.\n",
    "\n",
    "Przyjrzymy się dalej innym technikom przybliżeń\n"
   ]
  },
  {
   "cell_type": "markdown",
   "metadata": {},
   "source": [
    "### Wzór Taylora\n",
    "\n",
    "W drugim podejściu wykorzystywać będziemy słynne twierdzenie o wzorze Taylora. Pozwala ono odnajdywać wielomiany bliskie funkcją posiadającym odpowiednio dobrą klasę różniczkowalności. Wykorzystamy tu zatem własność, że $e = exp(1)$. Najpierw przypomnijmy samo sformułowanie twierdzenia:\n",
    "\n",
    "**Twierdzenie Taylora**\n",
    "*Niech $[a,b] \\subset \\mathbb{R} $ pewien przedział oraz $ f: [a,b] \\to \\mathbb{R}$ będzie funkcją $(n+1)$ różniczkowalną na przedziale $[a,b]$ w sposób ciągły. Wówczas dla każdego punktu z przedziału $(a,b)$ spełniony jest następujący wzór\n",
    "$$\n",
    "f(x) = f(a) + \\frac{x-a}{1!} f^{(1)}(a) + \\frac{(x-a)^2}{2!} f^{(2)}(a) + \\ldots + \\frac{(x-a)^n}{n!} + \\frac{(x-a)^{n+1}}{(n+1)!} f^{(n+1)} (\\xi),\n",
    "$$\n",
    "gdzie $\\xi \\in [x,a]$ (gdy $x < a$ lub do $[a,x]$ jeśli $x >a$)*\n",
    "\n",
    "W efekcie stosowania powyższego twierdzenia do gładkiej funkcji $e^x$ uzyskujemy przybliżenie szeregiem\n",
    "$$\n",
    "e^x = 1 + \\frac{x}{1!} + \\frac{x^2}{2!} + \\frac{x^3}{3!} + \\ldots\n",
    "$$\n",
    "\n",
    "Zatem aby obliczyć $e$ możemy szukać przybliżeń szeregiem\n",
    "$$\n",
    "e = 1 + \\frac{1}{1!} + \\frac{1}{2!} + \\frac{1}{3!} + \\ldots\n",
    "$$"
   ]
  },
  {
   "cell_type": "code",
   "execution_count": 7,
   "metadata": {},
   "outputs": [],
   "source": [
    "def e_taylor_series(n): # 3n +1 flo\n",
    "    sum = 0\n",
    "    temp_factorial =1;\n",
    "    for i in range(1,n): \n",
    "        temp_factorial *= i\n",
    "        sum += 1/temp_factorial\n",
    "    return sum+1"
   ]
  },
  {
   "cell_type": "code",
   "execution_count": 11,
   "metadata": {},
   "outputs": [
    {
     "name": "stdout",
     "output_type": "stream",
     "text": [
      "Przybliżenie 1 wynosi 1\n",
      "Przybliżenie 2 wynosi 2.0\n",
      "Przybliżenie 3 wynosi 2.5\n",
      "Przybliżenie 4 wynosi 2.666666666666667\n",
      "Przybliżenie 5 wynosi 2.7083333333333335\n",
      "Przybliżenie 6 wynosi 2.716666666666667\n",
      "Przybliżenie 7 wynosi 2.718055555555556\n",
      "Przybliżenie 8 wynosi 2.7182539682539684\n",
      "Przybliżenie 9 wynosi 2.71827876984127\n",
      "Przybliżenie 10 wynosi 2.7182815255731922\n",
      "Przybliżenie 11 wynosi 2.718281801146385\n",
      "Przybliżenie 12 wynosi 2.718281826198493\n",
      "Przybliżenie 13 wynosi 2.7182818282861687\n",
      "Przybliżenie 14 wynosi 2.7182818284467594\n",
      "Przybliżenie 15 wynosi 2.71828182845823\n",
      "Przybliżenie 16 wynosi 2.718281828458995\n",
      "Przybliżenie 17 wynosi 2.7182818284590424\n",
      "Przybliżenie 18 wynosi 2.7182818284590455\n",
      "Przybliżenie 19 wynosi 2.7182818284590455\n",
      "Przybliżenie 20 wynosi 2.7182818284590455\n"
     ]
    }
   ],
   "source": [
    "for i in range(1,21):\n",
    "    print(f'Przybliżenie {i} wynosi {e_taylor_series(i)}')"
   ]
  },
  {
   "cell_type": "markdown",
   "metadata": {},
   "source": [
    "Taylor 18 -> 3*n+1 = 55flo\n",
    "Ciagiem 54 -> n+1 = 55 flo"
   ]
  },
  {
   "cell_type": "code",
   "execution_count": 12,
   "metadata": {},
   "outputs": [
    {
     "data": {
      "text/plain": [
       "2.6935323893818506"
      ]
     },
     "execution_count": 12,
     "metadata": {},
     "output_type": "execute_result"
    }
   ],
   "source": [
    "e_ciagiem(54)"
   ]
  },
  {
   "cell_type": "markdown",
   "metadata": {},
   "source": [
    "Obserwujemy, że już od zsumowanie 18 elementów pozwoliło nam osiągnąć stabilną dokładność przybliżenia liczby $e$. Wynik jest znacząco lepszy od metody ciągowej jednak pamiętajmy o ilości obliczeń. Tu aby policzyć n-te przybliżenia należy wykonać (n-1) mnożeń w silnii, (n-1) podzieleń oraz n sum. Zatem ilość operacji to około 3n operacji zmienno przecinkowych. Zatem ilość operacji przy 18 iteracji to około 54 tymczasem, czyli jest to bliskie iteracji 54 ciągowo"
   ]
  },
  {
   "cell_type": "code",
   "execution_count": 9,
   "metadata": {},
   "outputs": [
    {
     "name": "stdout",
     "output_type": "stream",
     "text": [
      "Przybliżenie 54 wynosi 2.6935323893818506\n"
     ]
    }
   ],
   "source": [
    "print(f'Przybliżenie {54} wynosi {e_ciagiem(54)}')"
   ]
  },
  {
   "cell_type": "markdown",
   "metadata": {},
   "source": [
    "Porównanie to nie pozostawia nam złudzeń. Różne sposoby przybliżenia do stałej mogą mieć zupełnie różną jakość."
   ]
  },
  {
   "cell_type": "markdown",
   "metadata": {},
   "source": [
    "### Ułamek łańcuchowy\n",
    "\n",
    "Ciekawą metodą przybliżania liczby e jest ułamek łańcuchowy. Okazuje się, że bardzo wiele liczb niewymiernych posiada postać tzw. ułamka łańcuchowego (**Tak naprawdę wszystkie liczby rzeczywiste mają taką postać, kwestia jednak podania formuły do rozwijania go w taki ułamek**). Dla liczby udowodniony jest związek z następującym ułamkiem\n",
    "\n",
    "$$\n",
    "e = 2 + \\frac{1}{1+ \\frac{1}{2 + \\frac{2}{3 + \\frac{3}{4 + \\frac{4}{\\ldots}}} } }\n",
    "$$\n",
    "\n",
    "Przyjrzyjmy się czy z tej postaci udaje nam się uzyskać zadowalającą dokładność\n"
   ]
  },
  {
   "cell_type": "code",
   "execution_count": 13,
   "metadata": {},
   "outputs": [],
   "source": [
    "def e_continued_fraction(n): #2n+2\n",
    "    tmp = n\n",
    "    for i in reversed(range(1,n)): \n",
    "        tmp = i + i / tmp\n",
    "    return 2+1/tmp"
   ]
  },
  {
   "cell_type": "code",
   "execution_count": 14,
   "metadata": {},
   "outputs": [
    {
     "name": "stdout",
     "output_type": "stream",
     "text": [
      "Przybliżenie 1 wynosi 3.0\n",
      "Przybliżenie 2 wynosi 2.6666666666666665\n",
      "Przybliżenie 3 wynosi 2.7272727272727275\n",
      "Przybliżenie 4 wynosi 2.7169811320754715\n",
      "Przybliżenie 5 wynosi 2.7184466019417477\n",
      "Przybliżenie 6 wynosi 2.718263331760264\n",
      "Przybliżenie 7 wynosi 2.71828369389345\n",
      "Przybliżenie 8 wynosi 2.7182816576664037\n",
      "Przybliżenie 9 wynosi 2.7182818427778273\n",
      "Przybliżenie 10 wynosi 2.7182818273518743\n",
      "Przybliżenie 11 wynosi 2.718281828538486\n",
      "Przybliżenie 12 wynosi 2.718281828453728\n",
      "Przybliżenie 13 wynosi 2.7182818284593786\n",
      "Przybliżenie 14 wynosi 2.7182818284590256\n",
      "Przybliżenie 15 wynosi 2.7182818284590464\n",
      "Przybliżenie 16 wynosi 2.718281828459045\n",
      "Przybliżenie 17 wynosi 2.7182818284590455\n",
      "Przybliżenie 18 wynosi 2.7182818284590455\n",
      "Przybliżenie 19 wynosi 2.7182818284590455\n",
      "Przybliżenie 20 wynosi 2.7182818284590455\n"
     ]
    }
   ],
   "source": [
    "for i in range(1,21):\n",
    "    print(f'Przybliżenie {i} wynosi {e_continued_fraction(i)}')"
   ]
  },
  {
   "cell_type": "markdown",
   "metadata": {},
   "source": [
    "Jak widzimy tu uzyskaliśmy dobre przylbliżenie już w 17tej iteracji. Oczywiście musimy uwzględnić złożoność obliczeń. Tu w każdej iteracji mamy 1 operację dodawania oraz dzielenia. Daje to łącznie 2n operacji. Zatem 17 iteracja przy złożoności 2n. Istotnie pokonujemy tu wzór z szeregu Taylora który potrzebował 18 operacji przy złożoności 3n."
   ]
  },
  {
   "cell_type": "markdown",
   "metadata": {},
   "source": [
    "Taylora - 18 iteracje - 3n+1\n",
    "Ułamek  - 17 iteracji - 2n+2"
   ]
  },
  {
   "cell_type": "markdown",
   "metadata": {},
   "source": [
    "### Wzór Brothera\n",
    "\n",
    "Wsród technik obliczania przybliżenia liczby e najczęściej wymienia się wzór Brothera postaci\n",
    "\n",
    "$$\n",
    "e = 2 \\sum_{i=1}^{\\infty} \\frac{i+1}{(2i+1)!}\n",
    "$$"
   ]
  },
  {
   "cell_type": "code",
   "execution_count": 15,
   "metadata": {},
   "outputs": [],
   "source": [
    "def e_brother_formula(n):\n",
    "    sum = 1\n",
    "    temp_factorial = 1\n",
    "    for i in range(1,n):\n",
    "        temp_factorial *= 2*i\n",
    "        temp_factorial *= (2*i+1)\n",
    "        sum += (i+1) / temp_factorial\n",
    "    return 2*sum"
   ]
  },
  {
   "cell_type": "code",
   "execution_count": 16,
   "metadata": {},
   "outputs": [
    {
     "name": "stdout",
     "output_type": "stream",
     "text": [
      "Przybliżenie 1 wynosi 2\n",
      "Przybliżenie 2 wynosi 2.6666666666666665\n",
      "Przybliżenie 3 wynosi 2.7166666666666663\n",
      "Przybliżenie 4 wynosi 2.718253968253968\n",
      "Przybliżenie 5 wynosi 2.718281525573192\n",
      "Przybliżenie 6 wynosi 2.7182818261984925\n",
      "Przybliżenie 7 wynosi 2.7182818284467585\n",
      "Przybliżenie 8 wynosi 2.718281828458994\n",
      "Przybliżenie 9 wynosi 2.7182818284590446\n",
      "Przybliżenie 10 wynosi 2.7182818284590446\n",
      "Przybliżenie 11 wynosi 2.7182818284590446\n",
      "Przybliżenie 12 wynosi 2.7182818284590446\n",
      "Przybliżenie 13 wynosi 2.7182818284590446\n",
      "Przybliżenie 14 wynosi 2.7182818284590446\n",
      "Przybliżenie 15 wynosi 2.7182818284590446\n",
      "Przybliżenie 16 wynosi 2.7182818284590446\n",
      "Przybliżenie 17 wynosi 2.7182818284590446\n",
      "Przybliżenie 18 wynosi 2.7182818284590446\n",
      "Przybliżenie 19 wynosi 2.7182818284590446\n",
      "Przybliżenie 20 wynosi 2.7182818284590446\n"
     ]
    }
   ],
   "source": [
    "for i in range(1,21):\n",
    "    print(f'Przybliżenie {i} wynosi {e_brother_formula(i)}')"
   ]
  },
  {
   "cell_type": "markdown",
   "metadata": {},
   "source": [
    "Widzimy, że wzór ostatecznie uzyskał gorszą dokładność niż poprzednie, ale za to w 9 iteracjach. Podobną skuteczność wykazuje poprzezdni algorytm przy 15tej iteracji. Złożoność obliczeniowa wzoru Brothera wynosi 4n, 3 operacje mnożenia oraz 1 operacja sumowania"
   ]
  },
  {
   "cell_type": "markdown",
   "metadata": {},
   "source": [
    "### Zmiana liczb cyfr znaczących\n",
    "\n",
    "Zauważmy, że nasze obecne prace są mocno ograniczone przez to co dostarcza nam arytmetyka dostępna zmiennym float. Na nasze szczęście w każdym języku programowania istnieją biblioteki które pozwalają na tworzenie zmiennych o dowolnie dużych precyzjach obliczeniowych. W przypadku Python jedną z takich bibliotek jest biblioteka decimal. Poniżej przykład jak należy zmodyfikować nasze obliczenia aby uzyskać życzoną przez dokładność obliczeń (w ilości cyfr)"
   ]
  },
  {
   "cell_type": "code",
   "execution_count": 20,
   "metadata": {},
   "outputs": [],
   "source": [
    "from decimal import *\n",
    "getcontext().prec = 50"
   ]
  },
  {
   "cell_type": "code",
   "execution_count": 21,
   "metadata": {},
   "outputs": [],
   "source": [
    "def e_taylor_series_decimal(n):\n",
    "    sum = Decimal(0)\n",
    "    temp_factorial = Decimal(1);\n",
    "    for i in range(1,n):\n",
    "        temp_factorial *= Decimal(i)\n",
    "        sum += Decimal(1)/temp_factorial\n",
    "    return sum+1\n",
    "def e_continued_fraction_decimal(n):\n",
    "    tmp = Decimal(n)\n",
    "    for i in reversed(range(1,n)):\n",
    "        tmp = Decimal(i) + Decimal(i) / tmp\n",
    "    return 2+1/tmp\n",
    "def e_brother_formula_decimal(n):\n",
    "    sum = Decimal(1)\n",
    "    temp_factorial = Decimal(1)\n",
    "    for i in range(1,n):\n",
    "        temp_factorial *= Decimal(2*i)\n",
    "        temp_factorial *= Decimal(2*i+1)\n",
    "        sum += Decimal(i+1) / temp_factorial\n",
    "    return Decimal(2)*sum"
   ]
  },
  {
   "cell_type": "code",
   "execution_count": 22,
   "metadata": {},
   "outputs": [
    {
     "name": "stdout",
     "output_type": "stream",
     "text": [
      "Przybliżenie 1 \n",
      "wynosi 1 \n",
      "wynosi 3\n",
      "wynosi 2    \n",
      "Przybliżenie 2 \n",
      "wynosi 2 \n",
      "wynosi 2.666666666666666666666666667\n",
      "wynosi 2.666666666666666666666666666    \n",
      "Przybliżenie 3 \n",
      "wynosi 2.5 \n",
      "wynosi 2.727272727272727272727272727\n",
      "wynosi 2.716666666666666666666666666    \n",
      "Przybliżenie 4 \n",
      "wynosi 2.666666666666666666666666667 \n",
      "wynosi 2.716981132075471698113207547\n",
      "wynosi 2.718253968253968253968253968    \n",
      "Przybliżenie 5 \n",
      "wynosi 2.708333333333333333333333334 \n",
      "wynosi 2.718446601941747572815533980\n",
      "wynosi 2.718281525573192239858906526    \n",
      "Przybliżenie 6 \n",
      "wynosi 2.716666666666666666666666667 \n",
      "wynosi 2.718263331760264275601698914\n",
      "wynosi 2.718281826198492865159531826    \n",
      "Przybliżenie 7 \n",
      "wynosi 2.718055555555555555555555556 \n",
      "wynosi 2.718283693893449991010966621\n",
      "wynosi 2.718281828446759002314557870    \n",
      "Przybliżenie 8 \n",
      "wynosi 2.718253968253968253968253969 \n",
      "wynosi 2.718281657666403737637279291\n",
      "wynosi 2.718281828458994464285469576    \n",
      "Przybliżenie 9 \n",
      "wynosi 2.718278769841269841269841271 \n",
      "wynosi 2.718281842777827338492036198\n",
      "wynosi 2.718281828459045070516047796    \n",
      "Przybliżenie 10 \n",
      "wynosi 2.718281525573192239858906527 \n",
      "wynosi 2.718281827351874408807598674\n",
      "wynosi 2.718281828459045234928752728    \n",
      "Przybliżenie 11 \n",
      "wynosi 2.718281801146384479717813053 \n",
      "wynosi 2.718281828538486166413577882\n",
      "wynosi 2.718281828459045235359357432    \n",
      "Przybliżenie 12 \n",
      "wynosi 2.718281826198492865159531828 \n",
      "wynosi 2.718281828453728183693079916\n",
      "wynosi 2.718281828459045235360285792    \n",
      "Przybliżenie 13 \n",
      "wynosi 2.718281828286168563946341726 \n",
      "wynosi 2.718281828459378715874282006\n",
      "wynosi 2.718281828459045235360287468    \n",
      "Przybliżenie 14 \n",
      "wynosi 2.718281828446759002314557872 \n",
      "wynosi 2.718281828459025557612956187\n",
      "wynosi 2.718281828459045235360287470    \n",
      "Przybliżenie 15 \n",
      "wynosi 2.718281828458229747912287597 \n",
      "wynosi 2.718281828459046331628328291\n",
      "wynosi 2.718281828459045235360287470    \n",
      "Przybliżenie 16 \n",
      "wynosi 2.718281828458994464285469579 \n",
      "wynosi 2.718281828459045177516363174\n",
      "wynosi 2.718281828459045235360287470    \n",
      "Przybliżenie 17 \n",
      "wynosi 2.718281828459042259058793453 \n",
      "wynosi 2.718281828459045238259098180\n",
      "wynosi 2.718281828459045235360287470    \n",
      "Przybliżenie 18 \n",
      "wynosi 2.718281828459045070516047799 \n",
      "wynosi 2.718281828459045235221961430\n",
      "wynosi 2.718281828459045235360287470    \n",
      "Przybliżenie 19 \n",
      "wynosi 2.718281828459045226708117485 \n",
      "wynosi 2.718281828459045235366586990\n",
      "wynosi 2.718281828459045235360287470    \n"
     ]
    }
   ],
   "source": [
    "for i in range(1,20):\n",
    "    print(f'''Przybliżenie {i} \\nwynosi {e_taylor_series_decimal(i)} \\nwynosi {e_continued_fraction_decimal(i)}\\nwynosi {e_brother_formula_decimal(i)}    ''')"
   ]
  },
  {
   "cell_type": "markdown",
   "metadata": {},
   "source": [
    "*Ciekawostka - biblioteki do obliczeń ze zmienną precyzją wykorzystują tablice małych liczb zamiast dużych typów zmiennych. Tablice oczywiście mogą się zdecydowanie bardziej rozszerzać, jednak występuje tutaj znaczące marnotrawstwo pamięci komputera oraz zwolnienie w zakresie obliczeń*"
   ]
  },
  {
   "cell_type": "code",
   "execution_count": 31,
   "metadata": {},
   "outputs": [
    {
     "name": "stdout",
     "output_type": "stream",
     "text": [
      "608 µs ± 24.6 µs per loop (mean ± std. dev. of 7 runs, 100 loops each)\n"
     ]
    }
   ],
   "source": [
    "%timeit -n100 e_taylor_series_decimal(1000)"
   ]
  },
  {
   "cell_type": "code",
   "execution_count": 32,
   "metadata": {},
   "outputs": [
    {
     "name": "stdout",
     "output_type": "stream",
     "text": [
      "253 µs ± 22.7 µs per loop (mean ± std. dev. of 7 runs, 100 loops each)\n"
     ]
    }
   ],
   "source": [
    "%timeit -n100 e_taylor_series(1000)"
   ]
  },
  {
   "cell_type": "markdown",
   "metadata": {},
   "source": [
    "Widzimy, że działanie naszej wersji jest około 3 razy dłuższe."
   ]
  },
  {
   "cell_type": "markdown",
   "metadata": {},
   "source": [
    "## Liczba $\\pi$ - stała Archimedesa\n",
    "\n",
    "Drugą z ważnych stałych jest liczba Pi. Tu podobnie do naszej dyspozycji odnaleźć można wiele użytecznych formuł na wyrażenie jej wartości.\n",
    "\n",
    "Pierwszy z pomysłów pochodzi od samego Archimedesa, czyli mam ponad 2200 lat. Aby przybliżyć wartość liczby należy użyć (jak to u Archimedesa) koła. Najlepiej takiego o promieniu 1, wtedy jego pole będzie wynosić dokładnie $\\pi$. W koło możemy wpisać wielokąt foremny. Im więcej boków będzie on miał, tym lepiej wypełniał on będzie koło. \n",
    "\n",
    "Dużo trudniej uzasadnić jak znaleźć pole takiego n-kąta foremnego, ale i na to jest sposób. Wystarczy zaznaczyć środek koła, narysować promienie do każdego wierzchołka n-kąta - by ujrzeć że jest to po prostu n trójkątów. \n",
    "\n",
    "![](http://www.matematykam.pl/images/l17e10.jpg)\n",
    "\n",
    "Pole pojedynczego trójkąta jest wyrażone np. wzorem\n",
    "\n",
    "$$\n",
    "P = \\frac{1}{2} \\cdot a \\cdot b \\cdot \\sin(\\alpha_{a,b}),\n",
    "$$\n",
    "gdzie $a,b$ są dwoma bokami trójkąta a $\\alpha_{a,b}$ jest kątem płaskim pomiędzy tymi bokami. \n",
    "\n",
    "Stąd nasza granica będzie mieć postać\n",
    "\n",
    "$$\n",
    "\\pi = \\lim_{n \\to \\infty} n \\cdot \\left( \\frac{1}{2} \\cdot 1 \\cdot 1 \\sin\\left(\\frac{2\\pi}{n}\\right) \\right)\n",
    "$$"
   ]
  },
  {
   "cell_type": "code",
   "execution_count": 33,
   "metadata": {},
   "outputs": [],
   "source": [
    "def pi_ciagowo(n):\n",
    "    return 0.5 * n * math.sin(2*math.pi / n)\n"
   ]
  },
  {
   "cell_type": "code",
   "execution_count": 35,
   "metadata": {},
   "outputs": [
    {
     "name": "stdout",
     "output_type": "stream",
     "text": [
      "Przybliżenie 3 wynosi 1.299038105676658\n",
      "Przybliżenie 4 wynosi 2.0\n",
      "Przybliżenie 5 wynosi 2.3776412907378837\n",
      "Przybliżenie 6 wynosi 2.598076211353316\n",
      "Przybliżenie 7 wynosi 2.7364101886381045\n",
      "Przybliżenie 8 wynosi 2.82842712474619\n",
      "Przybliżenie 9 wynosi 2.892544243589427\n",
      "Przybliżenie 10 wynosi 2.938926261462366\n",
      "Przybliżenie 11 wynosi 2.9735244960057865\n",
      "Przybliżenie 12 wynosi 2.9999999999999996\n",
      "Przybliżenie 13 wynosi 3.0207006182844953\n",
      "Przybliżenie 14 wynosi 3.037186173822907\n",
      "Przybliżenie 15 wynosi 3.050524823068501\n",
      "Przybliżenie 16 wynosi 3.0614674589207183\n",
      "Przybliżenie 17 wynosi 3.0705541625908\n",
      "Przybliżenie 18 wynosi 3.0781812899310186\n",
      "Przybliżenie 19 wynosi 3.084644957444493\n",
      "Przybliżenie 20 wynosi 3.090169943749474\n",
      "Przybliżenie 21 wynosi 3.094929331314494\n",
      "Przybliżenie 22 wynosi 3.0990581252557265\n",
      "Przybliżenie 23 wynosi 3.1026628683057793\n",
      "Przybliżenie 24 wynosi 3.105828541230249\n",
      "Przybliżenie 25 wynosi 3.108623589560685\n",
      "Przybliżenie 26 wynosi 3.1111036357382504\n",
      "Przybliżenie 27 wynosi 3.1133142550229422\n",
      "Przybliżenie 28 wynosi 3.1152930753884016\n",
      "Przybliżenie 29 wynosi 3.117071383059849\n",
      "Przybliżenie 30 wynosi 3.11867536226639\n",
      "Przybliżenie 31 wynosi 3.120127061374231\n",
      "Przybliżenie 32 wynosi 3.121445152258052\n",
      "Przybliżenie 33 wynosi 3.122645531946768\n",
      "Przybliżenie 34 wynosi 3.1237418028816957\n",
      "Przybliżenie 35 wynosi 3.1247456589761415\n",
      "Przybliżenie 36 wynosi 3.125667198004746\n",
      "Przybliżenie 37 wynosi 3.126515175954208\n",
      "Przybliżenie 38 wynosi 3.127297215333944\n",
      "Przybliżenie 39 wynosi 3.128019976726325\n"
     ]
    }
   ],
   "source": [
    "for i in range(3,40):\n",
    "    print(f'Przybliżenie {i} wynosi {pi_ciagowo(i)}')"
   ]
  },
  {
   "cell_type": "markdown",
   "metadata": {},
   "source": [
    "Podejście powyżej okazuje się być jednak bardzo wolno zbieżne. Poza tym jest obciążone jeszcze dodatkowymi absurdami. Aby policzyć wartość tej granicy trzeba bowiem \n",
    "\n",
    "* umieć porachować wartość funkcji sinus,\n",
    "* znać wartość liczby $\\pi$ (czyli to czego nam potrzeba).\n",
    "\n",
    "Aby zupełnie nie zdeprecjonować tego podejścia dodajmy, że w praktyce używa się tam znanego kąta początkowego a następnie korzysta się z funkcji na połowę kąta dokładnie pisząc\n",
    "\n",
    "$$\n",
    "\\sin \\left( \\frac{\\alpha}{2} \\right) = \\sqrt{\\frac{1-\\cos \\alpha}{2}},\n",
    "$$\n",
    "\n",
    "w połączeniu z \n",
    "$$\n",
    "\\cos \\alpha = \\sqrt{1 - \\sin^2 \\alpha}\n",
    "$$\n",
    "\n",
    "Wtedy startując np. od sześciokąta (mamy wtedy $\\alpha = 60^o$) jesteśmy w stanie obliczać przybliżenia liczby $\\pi$ o ile tylko umiemy przybliżać wyniki pierwiastkowania (do czego wrócimy jeszcze później). Nie mniej skupmy się dalej na szybszych metodach."
   ]
  },
  {
   "cell_type": "markdown",
   "metadata": {},
   "source": [
    "### Ułamek łańcuchowy\n",
    "\n",
    "Również dla liczby $\\pi$ można odszukać rozwinięcie w ułamek okresowy. (*Co jest bardzo ciekawe, że dla tych dwóch specjalnych stałych znamy te rozwinięcia*)\n",
    "\n",
    "$$\n",
    "\\pi = 3 + \\frac{1^2}{6 + \\frac{3^2}{6 + \\frac{5^2}{6 + \\frac{7^2}{6+\\ldots}}} }\n",
    "$$"
   ]
  },
  {
   "cell_type": "code",
   "execution_count": 36,
   "metadata": {},
   "outputs": [],
   "source": [
    "def pi_continued_fraction(n):\n",
    "    tmp = 6\n",
    "    for i in reversed(range(1,n)):\n",
    "        tmp = 6 + (2*i+1)**2 / tmp\n",
    "    return 3+1/tmp"
   ]
  },
  {
   "cell_type": "code",
   "execution_count": 37,
   "metadata": {},
   "outputs": [
    {
     "name": "stdout",
     "output_type": "stream",
     "text": [
      "Przybliżenie 1 wynosi 3.1666666666666665\n",
      "Przybliżenie 2 wynosi 3.1333333333333333\n",
      "Przybliżenie 3 wynosi 3.145238095238095\n",
      "Przybliżenie 4 wynosi 3.1396825396825396\n",
      "Przybliżenie 5 wynosi 3.1427128427128426\n",
      "Przybliżenie 6 wynosi 3.1408813408813407\n",
      "Przybliżenie 7 wynosi 3.142071817071817\n",
      "Przybliżenie 8 wynosi 3.1412548236077646\n",
      "Przybliżenie 9 wynosi 3.141839618929402\n",
      "Przybliżenie 10 wynosi 3.1414067184965018\n",
      "Przybliżenie 11 wynosi 3.1417360992606653\n",
      "Przybliżenie 12 wynosi 3.141479689004255\n",
      "Przybliżenie 13 wynosi 3.1416831892077552\n",
      "Przybliżenie 14 wynosi 3.1415189855952756\n",
      "Przybliżenie 15 wynosi 3.141653394197426\n",
      "Przybliżenie 16 wynosi 3.1415419859977827\n",
      "Przybliżenie 17 wynosi 3.1416353566793886\n",
      "Przybliżenie 18 wynosi 3.1415563302845726\n",
      "Przybliżenie 19 wynosi 3.141623806667839\n",
      "Przybliżenie 20 wynosi 3.1415657346585473\n",
      "Przybliżenie 21 wynosi 3.141616071918187\n",
      "Przybliżenie 22 wynosi 3.141572154482965\n",
      "Przybliżenie 23 wynosi 3.1416106990404735\n",
      "Przybliżenie 24 wynosi 3.141576685435031\n",
      "Przybliżenie 25 wynosi 3.14160685134755\n",
      "Przybliżenie 26 wynosi 3.141579973962182\n",
      "Przybliżenie 27 wynosi 3.141604023986232\n",
      "Przybliżenie 28 wynosi 3.141582418247748\n",
      "Przybliżenie 29 wynosi 3.1416019000322795\n",
      "Przybliżenie 30 wynosi 3.1415842726746206\n",
      "Przybliżenie 31 wynosi 3.141600273698686\n",
      "Przybliżenie 32 wynosi 3.1415857049341174\n",
      "Przybliżenie 33 wynosi 3.1415990074057163\n",
      "Przybliżenie 34 wynosi 3.141586828621159\n",
      "Przybliżenie 35 wynosi 3.141598006801351\n",
      "Przybliżenie 36 wynosi 3.1415877225444917\n",
      "Przybliżenie 37 wynosi 3.1415972057118697\n",
      "Przybliżenie 38 wynosi 3.1415884425452116\n",
      "Przybliżenie 39 wynosi 3.141596556793832\n"
     ]
    }
   ],
   "source": [
    "for i in range(1,40):\n",
    "    print(f'Przybliżenie {i} wynosi {pi_continued_fraction(i)}')"
   ]
  },
  {
   "cell_type": "markdown",
   "metadata": {},
   "source": [
    "Widzimy, że zbieżnośc tu nie jest podobnie szybka - widzimy ponadto, że wartości oscylują z góry i z dołu wokół liczby $\\pi$"
   ]
  },
  {
   "cell_type": "markdown",
   "metadata": {},
   "source": [
    "### Iloczyn Viete'y\n",
    "\n",
    "Kolejną technika wykorzystuje wzór Viete dla liczby $\\pi$ postaci\n",
    "\n",
    "$$\n",
    "\\frac{2}{\\pi} = \\frac{\\sqrt{2}}{2} \\cdot \\frac{\\sqrt{2+\\sqrt{2}}}{2} \\cdot \\frac{\\sqrt{2+\\sqrt{2+\\sqrt{2}}}}{2}\\cdot \\ldots\n",
    "$$"
   ]
  },
  {
   "cell_type": "code",
   "execution_count": 38,
   "metadata": {},
   "outputs": [],
   "source": [
    "def pi_viete(n):\n",
    "    root = 0\n",
    "    result = 1\n",
    "    for i in range(n):\n",
    "        root = math.sqrt(2+root) # używamy skomplikowanej funkcji\n",
    "        result *= root\n",
    "        result /= 2\n",
    "    return 2/result\n"
   ]
  },
  {
   "cell_type": "code",
   "execution_count": 39,
   "metadata": {},
   "outputs": [
    {
     "name": "stdout",
     "output_type": "stream",
     "text": [
      "Przybliżenie 1 wynosi 2.82842712474619\n",
      "Przybliżenie 2 wynosi 3.0614674589207183\n",
      "Przybliżenie 3 wynosi 3.121445152258052\n",
      "Przybliżenie 4 wynosi 3.136548490545939\n",
      "Przybliżenie 5 wynosi 3.1403311569547525\n",
      "Przybliżenie 6 wynosi 3.141277250932773\n",
      "Przybliżenie 7 wynosi 3.141513801144301\n",
      "Przybliżenie 8 wynosi 3.1415729403670913\n",
      "Przybliżenie 9 wynosi 3.141587725277159\n",
      "Przybliżenie 10 wynosi 3.1415914215111997\n",
      "Przybliżenie 11 wynosi 3.1415923455701176\n",
      "Przybliżenie 12 wynosi 3.141592576584872\n",
      "Przybliżenie 13 wynosi 3.1415926343385627\n",
      "Przybliżenie 14 wynosi 3.141592648776985\n",
      "Przybliżenie 15 wynosi 3.1415926523865907\n",
      "Przybliżenie 16 wynosi 3.141592653288993\n",
      "Przybliżenie 17 wynosi 3.1415926535145933\n",
      "Przybliżenie 18 wynosi 3.1415926535709935\n",
      "Przybliżenie 19 wynosi 3.1415926535850933\n",
      "Przybliżenie 20 wynosi 3.1415926535886185\n",
      "Przybliżenie 21 wynosi 3.1415926535895\n",
      "Przybliżenie 22 wynosi 3.1415926535897203\n",
      "Przybliżenie 23 wynosi 3.1415926535897754\n",
      "Przybliżenie 24 wynosi 3.141592653589789\n",
      "Przybliżenie 25 wynosi 3.1415926535897927\n",
      "Przybliżenie 26 wynosi 3.1415926535897936\n",
      "Przybliżenie 27 wynosi 3.141592653589794\n",
      "Przybliżenie 28 wynosi 3.141592653589794\n",
      "Przybliżenie 29 wynosi 3.141592653589794\n"
     ]
    }
   ],
   "source": [
    "for i in range(1,30):\n",
    "    print(f'Przybliżenie {i} wynosi {pi_viete(i)}')"
   ]
  },
  {
   "cell_type": "markdown",
   "metadata": {},
   "source": [
    "Obserwujemy, że algorytm potrzebował 27 iteracji aby ustabilizować wynik. Zauważmy jednak, że dość intensywnie wykorzystywał on funkcję pierwiastkowania do przeprowadzenia swoich obliczeń. Zatem jego koszt jest dość trudny do oszacowania"
   ]
  },
  {
   "cell_type": "markdown",
   "metadata": {},
   "source": [
    "### Wzór Wallis'a\n",
    "\n",
    "Kolejny pomysł na obliczenia opiera się o tzw. wzór Wallisa postaci\n",
    "\n",
    "$$\n",
    "\\frac{\\pi}{2} = \\frac{2}{1} \\cdot \\frac{2}{3} \\cdot \\frac{4}{3} \\cdot \\frac{4}{5} \\cdot \\frac{6}{5} \\cdot \\frac{6}{7} \\cdot \\ldots\n",
    "$$"
   ]
  },
  {
   "cell_type": "code",
   "execution_count": 40,
   "metadata": {},
   "outputs": [],
   "source": [
    "def pi_wallis(n):\n",
    "    result = 1\n",
    "    for i in range(1,n+1):\n",
    "        result *= (2*i) * (2*i) / (2*i-1) / (2*i+1)\n",
    "    return result * 2"
   ]
  },
  {
   "cell_type": "code",
   "execution_count": 41,
   "metadata": {},
   "outputs": [
    {
     "name": "stdout",
     "output_type": "stream",
     "text": [
      "Przybliżenie 1 wynosi 2.6666666666666665\n",
      "Przybliżenie 2 wynosi 2.844444444444444\n",
      "Przybliżenie 3 wynosi 2.9257142857142857\n",
      "Przybliżenie 4 wynosi 2.9721541950113375\n",
      "Przybliżenie 5 wynosi 3.0021759545569067\n",
      "Przybliżenie 6 wynosi 3.023170192001361\n",
      "Przybliżenie 7 wynosi 3.0386736288834193\n",
      "Przybliżenie 8 wynosi 3.050589996055511\n",
      "Przybliżenie 9 wynosi 3.0600345471268904\n",
      "Przybliżenie 10 wynosi 3.0677038066435\n",
      "Przybliżenie 11 wynosi 3.074055160280443\n",
      "Przybliżenie 12 wynosi 3.0794013431678877\n",
      "Przybliżenie 13 wynosi 3.08396341923184\n",
      "Przybliżenie 14 wynosi 3.0879020698311144\n",
      "Przybliżenie 15 wynosi 3.091336888596221\n",
      "Przybliżenie 16 wynosi 3.094358723286931\n",
      "Przybliżenie 17 wynosi 3.097037821748651\n",
      "Przybliżenie 18 wynosi 3.099429356746141\n",
      "Przybliżenie 19 wynosi 3.1015772634382723\n",
      "Przybliżenie 20 wynosi 3.103516961539235\n",
      "Przybliżenie 21 wynosi 3.105277322833358\n",
      "Przybliżenie 22 wynosi 3.1068821173154424\n",
      "Przybliżenie 23 wynosi 3.108351092311809\n",
      "Przybliżenie 24 wynosi 3.1097007888347408\n",
      "Przybliżenie 25 wynosi 3.110945166901502\n",
      "Przybliżenie 26 wynosi 3.112096090011714\n",
      "Przybliżenie 27 wynosi 3.113163704450826\n",
      "Przybliżenie 28 wynosi 3.1141567391252916\n",
      "Przybliżenie 29 wynosi 3.115082744697437\n",
      "Przybliżenie 30 wynosi 3.1159482858879617\n",
      "Przybliżenie 31 wynosi 3.1167590973076567\n",
      "Przybliżenie 32 wynosi 3.1175202106403326\n",
      "Przybliżenie 33 wynosi 3.1182360591387575\n",
      "Przybliżenie 34 wynosi 3.1189105640185195\n",
      "Przybliżenie 35 wynosi 3.119547206305521\n",
      "Przybliżenie 36 wynosi 3.120149086916423\n",
      "Przybliżenie 37 wynosi 3.120718977160609\n",
      "Przybliżenie 38 wynosi 3.1212593613990784\n",
      "Przybliżenie 39 wynosi 3.121772473245437\n",
      "Przybliżenie 40 wynosi 3.1222603264214404\n",
      "Przybliżenie 41 wynosi 3.1227247411658134\n",
      "Przybliżenie 42 wynosi 3.1231673669264324\n",
      "Przybliżenie 43 wynosi 3.1235897019321017\n",
      "Przybliżenie 44 wynosi 3.123993110133307\n",
      "Przybliżenie 45 wynosi 3.1243788359155187\n",
      "Przybliżenie 46 wynosi 3.124748016919408\n",
      "Przybliżenie 47 wynosi 3.125101695246167\n",
      "Przybliżenie 48 wynosi 3.1254408272803773\n",
      "Przybliżenie 49 wynosi 3.125766292325393\n"
     ]
    }
   ],
   "source": [
    "for i in range(1,50):\n",
    "    print(f'Przybliżenie {i} wynosi {pi_wallis(i)}')"
   ]
  },
  {
   "cell_type": "markdown",
   "metadata": {},
   "source": [
    "Widzimy tutaj wolniejsze tempo zbieżności. Jednak niewątpliwie jego zaletą jest to, że nie odwołujemy się tu do żadnych pomocniczych funkcji."
   ]
  },
  {
   "cell_type": "markdown",
   "metadata": {},
   "source": [
    "### Szereg Gregory-Leibniza\n",
    "\n",
    "Ostatnim z najistotniejszych technik przybliża liczby $\\pi$ jest tzw. Szereg naprzemienny Gregory - Leibniza postaci\n",
    "\n",
    "$$\n",
    "\\frac{\\pi}{4} = 1 - \\frac{1}{3} + \\frac{1}{5} - \\frac{1}{7} \\pm \\ldots\n",
    "$$"
   ]
  },
  {
   "cell_type": "code",
   "execution_count": 42,
   "metadata": {},
   "outputs": [],
   "source": [
    "def pi_gregory_leibniz(n):\n",
    "    result = 0\n",
    "    for i in range(n):\n",
    "        result += 1/(4*i+1)\n",
    "        result -= 1/(4*i+3)\n",
    "    return result * 4"
   ]
  },
  {
   "cell_type": "code",
   "execution_count": 43,
   "metadata": {},
   "outputs": [
    {
     "name": "stdout",
     "output_type": "stream",
     "text": [
      "Przybliżenie 1 wynosi 2.666666666666667\n",
      "Przybliżenie 2 wynosi 2.8952380952380956\n",
      "Przybliżenie 3 wynosi 2.9760461760461765\n",
      "Przybliżenie 4 wynosi 3.017071817071818\n",
      "Przybliżenie 5 wynosi 3.0418396189294032\n",
      "Przybliżenie 6 wynosi 3.058402765927333\n",
      "Przybliżenie 7 wynosi 3.0702546177791854\n",
      "Przybliżenie 8 wynosi 3.079153394197428\n",
      "Przybliżenie 9 wynosi 3.0860798011238346\n",
      "Przybliżenie 10 wynosi 3.09162380666784\n",
      "Przybliżenie 11 wynosi 3.0961615264636424\n",
      "Przybliżenie 12 wynosi 3.099944032373808\n",
      "Przybliżenie 13 wynosi 3.1031453128860127\n",
      "Przybliżenie 14 wynosi 3.1058897382719475\n",
      "Przybliżenie 15 wynosi 3.108268566698947\n",
      "Przybliżenie 16 wynosi 3.110350273698687\n",
      "Przybliżenie 17 wynosi 3.112187242699835\n",
      "Przybliżenie 18 wynosi 3.1138202290235744\n",
      "Przybliżenie 19 wynosi 3.115281416238186\n",
      "Przybliżenie 20 wynosi 3.116596556793833\n",
      "Przybliżenie 21 wynosi 3.117786501758878\n",
      "Przybliżenie 22 wynosi 3.118868313794037\n",
      "Przybliżenie 23 wynosi 3.1198560900627124\n",
      "Przybliżenie 24 wynosi 3.1207615795929895\n",
      "Przybliżenie 25 wynosi 3.121594652591011\n",
      "Przybliżenie 26 wynosi 3.12236366153074\n",
      "Przybliżenie 27 wynosi 3.1230757220558845\n",
      "Przybliżenie 28 wynosi 3.12373693372627\n",
      "Przybliżenie 29 wynosi 3.124352555119114\n",
      "Przybliżenie 30 wynosi 3.1249271439289967\n",
      "Przybliżenie 31 wynosi 3.125464669965414\n",
      "Przybliżenie 32 wynosi 3.125968606973288\n",
      "Przybliżenie 33 wynosi 3.1264420077662343\n",
      "Przybliżenie 34 wynosi 3.126887566106529\n",
      "Przybliżenie 35 wynosi 3.127307667981234\n",
      "Przybliżenie 36 wynosi 3.127704434335447\n",
      "Przybliżenie 37 wynosi 3.1280797568782575\n",
      "Przybliżenie 38 wynosi 3.1284353282369843\n",
      "Przybliżenie 39 wynosi 3.128772667473754\n",
      "Przybliżenie 40 wynosi 3.129093141775721\n",
      "Przybliżenie 41 wynosi 3.129397984972002\n",
      "Przybliżenie 42 wynosi 3.129688313406043\n",
      "Przybliżenie 43 wynosi 3.129965139593801\n",
      "Przybliżenie 44 wynosi 3.1302293840198954\n",
      "Przybliżenie 45 wynosi 3.1304818853613083\n",
      "Przybliżenie 46 wynosi 3.1307234093778527\n",
      "Przybliżenie 47 wynosi 3.1309546566679236\n",
      "Przybliżenie 48 wynosi 3.131176269454982\n",
      "Przybliżenie 49 wynosi 3.1313888375431977\n"
     ]
    }
   ],
   "source": [
    "for i in range(1,50):\n",
    "    print(f'Przybliżenie {i} wynosi {pi_gregory_leibniz(i)}')"
   ]
  },
  {
   "cell_type": "markdown",
   "metadata": {},
   "source": [
    "W przypadku tej metody zauważmy, że również zbieżność nie jest najszybsza (ale lepsza niż przy wzorze Wallis'a). Również i w tym wypadku mamy jednak doczynienia z wykorzystaniem wyłącznie elementarnych "
   ]
  },
  {
   "cell_type": "markdown",
   "metadata": {},
   "source": [
    "## Liczba $\\sqrt{2}$\n",
    "\n",
    "Omówmy też po krótce techniki odszukania wartości związanych z pierwiastkami\n",
    "\n",
    "Mamy ułamek łańcuchowy\n",
    "$$\n",
    "\\sqrt{2} = 1 + \\frac{1}{2+\\frac{1}{2+\\frac{1}{2+\\frac{1}{2+\\ldots}}}}\n",
    "$$"
   ]
  },
  {
   "cell_type": "code",
   "execution_count": 44,
   "metadata": {},
   "outputs": [],
   "source": [
    "def sqrt2_continued_fraction(n):\n",
    "    tmp = 2\n",
    "    for i in reversed(range(1,n)):\n",
    "        tmp = 2 + 1 / tmp\n",
    "    return 1+1/tmp"
   ]
  },
  {
   "cell_type": "code",
   "execution_count": 45,
   "metadata": {},
   "outputs": [
    {
     "name": "stdout",
     "output_type": "stream",
     "text": [
      "Przybliżenie 1 wynosi 1.5\n",
      "Przybliżenie 2 wynosi 1.4\n",
      "Przybliżenie 3 wynosi 1.4166666666666667\n",
      "Przybliżenie 4 wynosi 1.4137931034482758\n",
      "Przybliżenie 5 wynosi 1.4142857142857144\n",
      "Przybliżenie 6 wynosi 1.4142011834319526\n",
      "Przybliżenie 7 wynosi 1.4142156862745099\n",
      "Przybliżenie 8 wynosi 1.4142131979695431\n",
      "Przybliżenie 9 wynosi 1.4142136248948696\n",
      "Przybliżenie 10 wynosi 1.4142135516460548\n",
      "Przybliżenie 11 wynosi 1.4142135642135643\n",
      "Przybliżenie 12 wynosi 1.4142135620573204\n",
      "Przybliżenie 13 wynosi 1.4142135624272734\n",
      "Przybliżenie 14 wynosi 1.4142135623637995\n",
      "Przybliżenie 15 wynosi 1.4142135623746899\n",
      "Przybliżenie 16 wynosi 1.4142135623728214\n",
      "Przybliżenie 17 wynosi 1.414213562373142\n",
      "Przybliżenie 18 wynosi 1.414213562373087\n",
      "Przybliżenie 19 wynosi 1.4142135623730965\n",
      "Przybliżenie 20 wynosi 1.414213562373095\n",
      "Przybliżenie 21 wynosi 1.4142135623730951\n",
      "Przybliżenie 22 wynosi 1.4142135623730951\n",
      "Przybliżenie 23 wynosi 1.4142135623730951\n",
      "Przybliżenie 24 wynosi 1.4142135623730951\n"
     ]
    }
   ],
   "source": [
    "for i in range(1,25):\n",
    "    print(f'Przybliżenie {i} wynosi {sqrt2_continued_fraction(i)}')"
   ]
  },
  {
   "cell_type": "markdown",
   "metadata": {},
   "source": [
    "Dostępna jest również formuła oparta o wzór Taylora postaci:\n",
    "\n",
    "$$\n",
    "\\sqrt{2} = \\sum_{n=0}^\\infty \\frac{(2k+1)!}{(k!)^2 \\cdot 2^{3k+1}}\n",
    "$$"
   ]
  },
  {
   "cell_type": "code",
   "execution_count": 46,
   "metadata": {},
   "outputs": [],
   "source": [
    "def sqrt2_taylor_euler(n):\n",
    "    result = 0.5\n",
    "    k2p1 = 1\n",
    "    two_power = 2\n",
    "    kp2 = 1\n",
    "    for i in range(1,n):\n",
    "        k2p1 *= (2*i) * (2*i+1)\n",
    "        kp2 *= i*i\n",
    "        two_power *= 8\n",
    "        result += k2p1/kp2/two_power\n",
    "    return result"
   ]
  },
  {
   "cell_type": "code",
   "execution_count": 47,
   "metadata": {},
   "outputs": [
    {
     "name": "stdout",
     "output_type": "stream",
     "text": [
      "Przybliżenie 1 wynosi 0.5\n",
      "Przybliżenie 2 wynosi 0.875\n",
      "Przybliżenie 3 wynosi 1.109375\n",
      "Przybliżenie 4 wynosi 1.24609375\n",
      "Przybliżenie 5 wynosi 1.322998046875\n",
      "Przybliżenie 6 wynosi 1.36529541015625\n",
      "Przybliżenie 7 wynosi 1.3882064819335938\n",
      "Przybliżenie 8 wynosi 1.4004802703857422\n",
      "Przybliżenie 9 wynosi 1.407000720500946\n",
      "Przybliżenie 10 wynosi 1.4104420691728592\n",
      "Przybliżenie 11 wynosi 1.4122487772256136\n",
      "Przybliżenie 12 wynosi 1.4131931927986443\n",
      "Przybliżenie 13 wynosi 1.4136850759095978\n",
      "Przybliżenie 14 wynosi 1.4139404767556698\n",
      "Przybliżenie 15 wynosi 1.4140727379081\n",
      "Przybliżenie 16 wynosi 1.4141410728368555\n",
      "Przybliżenie 17 wynosi 1.4141763080344951\n",
      "Przybliżenie 18 wynosi 1.414194443797986\n",
      "Przybliżenie 19 wynosi 1.4142037635653355\n",
      "Przybliżenie 20 wynosi 1.414208546077528\n",
      "Przybliżenie 21 wynosi 1.4142109971150267\n",
      "Przybliżenie 22 wynosi 1.414212251812794\n",
      "Przybliżenie 23 wynosi 1.4142128934196068\n",
      "Przybliżenie 24 wynosi 1.4142132211970002\n",
      "Przybliżenie 25 wynosi 1.4142133885000447\n",
      "Przybliżenie 26 wynosi 1.4142134738245975\n",
      "Przybliżenie 27 wynosi 1.4142135173073023\n",
      "Przybliżenie 28 wynosi 1.4142135394512723\n",
      "Przybliżenie 29 wynosi 1.4142135507209712\n",
      "Przybliżenie 30 wynosi 1.4142135564529732\n",
      "Przybliżenie 31 wynosi 1.4142135593667409\n",
      "Przybliżenie 32 wynosi 1.414213560847123\n",
      "Przybliżenie 33 wynosi 1.4142135615988793\n",
      "Przybliżenie 34 wynosi 1.4142135619804528\n",
      "Przybliżenie 35 wynosi 1.4142135621740453\n",
      "Przybliżenie 36 wynosi 1.4142135622722243\n",
      "Przybliżenie 37 wynosi 1.4142135623219956\n",
      "Przybliżenie 38 wynosi 1.4142135623472176\n",
      "Przybliżenie 39 wynosi 1.4142135623599945\n",
      "Przybliżenie 40 wynosi 1.414213562366465\n",
      "Przybliżenie 41 wynosi 1.4142135623697405\n",
      "Przybliżenie 42 wynosi 1.4142135623713983\n",
      "Przybliżenie 43 wynosi 1.414213562372237\n",
      "Przybliżenie 44 wynosi 1.4142135623726613\n",
      "Przybliżenie 45 wynosi 1.4142135623728758\n",
      "Przybliżenie 46 wynosi 1.4142135623729841\n",
      "Przybliżenie 47 wynosi 1.414213562373039\n",
      "Przybliżenie 48 wynosi 1.4142135623730667\n",
      "Przybliżenie 49 wynosi 1.4142135623730807\n",
      "Przybliżenie 50 wynosi 1.4142135623730878\n",
      "Przybliżenie 51 wynosi 1.4142135623730914\n",
      "Przybliżenie 52 wynosi 1.4142135623730931\n",
      "Przybliżenie 53 wynosi 1.414213562373094\n",
      "Przybliżenie 54 wynosi 1.4142135623730945\n",
      "Przybliżenie 55 wynosi 1.4142135623730947\n",
      "Przybliżenie 56 wynosi 1.414213562373095\n",
      "Przybliżenie 57 wynosi 1.414213562373095\n",
      "Przybliżenie 58 wynosi 1.414213562373095\n",
      "Przybliżenie 59 wynosi 1.414213562373095\n",
      "Przybliżenie 60 wynosi 1.414213562373095\n",
      "Przybliżenie 61 wynosi 1.414213562373095\n",
      "Przybliżenie 62 wynosi 1.414213562373095\n",
      "Przybliżenie 63 wynosi 1.414213562373095\n",
      "Przybliżenie 64 wynosi 1.414213562373095\n",
      "Przybliżenie 65 wynosi 1.414213562373095\n",
      "Przybliżenie 66 wynosi 1.414213562373095\n",
      "Przybliżenie 67 wynosi 1.414213562373095\n",
      "Przybliżenie 68 wynosi 1.414213562373095\n",
      "Przybliżenie 69 wynosi 1.414213562373095\n",
      "Przybliżenie 70 wynosi 1.414213562373095\n",
      "Przybliżenie 71 wynosi 1.414213562373095\n",
      "Przybliżenie 72 wynosi 1.414213562373095\n",
      "Przybliżenie 73 wynosi 1.414213562373095\n",
      "Przybliżenie 74 wynosi 1.414213562373095\n",
      "Przybliżenie 75 wynosi 1.414213562373095\n",
      "Przybliżenie 76 wynosi 1.414213562373095\n",
      "Przybliżenie 77 wynosi 1.414213562373095\n",
      "Przybliżenie 78 wynosi 1.414213562373095\n",
      "Przybliżenie 79 wynosi 1.414213562373095\n",
      "Przybliżenie 80 wynosi 1.414213562373095\n",
      "Przybliżenie 81 wynosi 1.414213562373095\n",
      "Przybliżenie 82 wynosi 1.414213562373095\n",
      "Przybliżenie 83 wynosi 1.414213562373095\n",
      "Przybliżenie 84 wynosi 1.414213562373095\n",
      "Przybliżenie 85 wynosi 1.414213562373095\n",
      "Przybliżenie 86 wynosi 1.414213562373095\n",
      "Przybliżenie 87 wynosi 1.414213562373095\n",
      "Przybliżenie 88 wynosi 1.414213562373095\n",
      "Przybliżenie 89 wynosi 1.414213562373095\n",
      "Przybliżenie 90 wynosi 1.414213562373095\n",
      "Przybliżenie 91 wynosi 1.414213562373095\n",
      "Przybliżenie 92 wynosi 1.414213562373095\n",
      "Przybliżenie 93 wynosi 1.414213562373095\n",
      "Przybliżenie 94 wynosi 1.414213562373095\n",
      "Przybliżenie 95 wynosi 1.414213562373095\n",
      "Przybliżenie 96 wynosi 1.414213562373095\n",
      "Przybliżenie 97 wynosi 1.414213562373095\n",
      "Przybliżenie 98 wynosi 1.414213562373095\n",
      "Przybliżenie 99 wynosi 1.414213562373095\n"
     ]
    }
   ],
   "source": [
    "for i in range(1,100):\n",
    "    print(f'Przybliżenie {i} wynosi {sqrt2_taylor_euler(i)}')"
   ]
  },
  {
   "cell_type": "markdown",
   "metadata": {},
   "source": [
    "Najczęstszym wyborem do przybliżania pierwiastka $\\sqrt{2}$ jest wykorzystanie iteracji prostej do odszukania. Zauważmy, że równanie $ x^2 = 2 $ ma rozwiązanie dodatnie właśnie $\\sqrt{2}$. Jednak równanie to wymaga przekształceń aby uzyskać jego zbieżność\n",
    "$$\n",
    "\\frac{x^2}{2} = 1 \n",
    "$$\n",
    "\n",
    "$$\n",
    "x^2 = \\frac{x^2}{2} + 1\n",
    "$$\n",
    "\n",
    "$$\n",
    "x = \\frac{x}{2} + \\frac{1}{x}\n",
    "$$"
   ]
  },
  {
   "cell_type": "code",
   "execution_count": 52,
   "metadata": {},
   "outputs": [],
   "source": [
    "def sqrt2_iteration(n):\n",
    "    a = 1.41\n",
    "    for i in range(n):\n",
    "          a = a/2 + 1/a\n",
    "    return a"
   ]
  },
  {
   "cell_type": "code",
   "execution_count": 53,
   "metadata": {},
   "outputs": [
    {
     "name": "stdout",
     "output_type": "stream",
     "text": [
      "Przybliżenie 1 wynosi 1.4142198581560284\n",
      "Przybliżenie 2 wynosi 1.4142135623871086\n",
      "Przybliżenie 3 wynosi 1.414213562373095\n",
      "Przybliżenie 4 wynosi 1.414213562373095\n",
      "Przybliżenie 5 wynosi 1.414213562373095\n",
      "Przybliżenie 6 wynosi 1.414213562373095\n",
      "Przybliżenie 7 wynosi 1.414213562373095\n",
      "Przybliżenie 8 wynosi 1.414213562373095\n",
      "Przybliżenie 9 wynosi 1.414213562373095\n",
      "Przybliżenie 10 wynosi 1.414213562373095\n",
      "Przybliżenie 11 wynosi 1.414213562373095\n",
      "Przybliżenie 12 wynosi 1.414213562373095\n",
      "Przybliżenie 13 wynosi 1.414213562373095\n",
      "Przybliżenie 14 wynosi 1.414213562373095\n",
      "Przybliżenie 15 wynosi 1.414213562373095\n",
      "Przybliżenie 16 wynosi 1.414213562373095\n",
      "Przybliżenie 17 wynosi 1.414213562373095\n",
      "Przybliżenie 18 wynosi 1.414213562373095\n",
      "Przybliżenie 19 wynosi 1.414213562373095\n"
     ]
    }
   ],
   "source": [
    "for i in range(1,20):\n",
    "    print(f'Przybliżenie {i} wynosi {sqrt2_iteration(i)}')"
   ]
  },
  {
   "cell_type": "markdown",
   "metadata": {},
   "source": [
    "## Zadanie/ćwiczenie\n",
    "\n",
    "### Zadanie 1 (proste)\n",
    "Wykorzystaj pakiet decimal Pythona do znalezienia przybliżenia wartości liczby $\\pi$ lub $\\sqrt{2}$ o zadanej przez siebie dokładności np. 75 cyfr\n",
    "\n",
    "### Zadanie 2 (trudniejsze)\n",
    "Wychodząc od równania $x^2 = a$, i postępując według przykładu z $\\sqrt{2}$ zaproponuj algorytm iteracyjny odszukania wartości $\\sqrt{a}$. Algorytm koniecznie przetestuj"
   ]
  },
  {
   "cell_type": "markdown",
   "metadata": {},
   "source": [
    "## Obliczenia trudnych funkcji\n",
    "\n",
    "W poprzedniej części obserwowaliśmy różne sposoby na przybliżanie liczb. Dostępna nam tam była mnogość metod. Wyobraźmy sobie jak dużo bardziej różnorodnym może być zadanie przybliżania funkcji. Tymczasem okazuje się, że w niemal każda technika opiera się na stosowaniu wzoru Taylora:\n",
    "\n",
    "**Twierdzenie Taylora**\n",
    "*Niech $[a,b] \\subset \\mathbb{R} $ pewien przedział oraz $ f: [a,b] \\to \\mathbb{R}$ będzie funkcją $(n+1)$ różniczkowalną na przedziale $[a,b]$ w sposób ciągły. Wówczas dla każdego punktu z przedziału $(a,b)$ spełniony jest następujący wzór\n",
    "$$\n",
    "f(x) = f(a) + \\frac{x-a}{1!} f^{(1)}(a) + \\frac{(x-a)^2}{2!} f^{(2)}(a) + \\ldots + \\frac{(x-a)^n}{n!} + \\frac{(x-a)^{n+1}}{(n+1)!} f^{(n+1)} (\\xi),\n",
    "$$\n",
    "gdzie $\\xi \\in [x,a]$ (gdy $x < a$ lub do $[a,x]$ jeśli $x >a$)*\n",
    "\n",
    "Przypominjmy w tym miejscu kilka z najważniejszych rozwinięć funkcji\n",
    "\n",
    "| Funkcja &nbsp; &nbsp; &nbsp; &nbsp; &nbsp; &nbsp; &nbsp; &nbsp; | Rozwinięcie &nbsp; &nbsp; &nbsp; &nbsp; &nbsp; &nbsp; &nbsp; &nbsp; &nbsp; &nbsp; &nbsp; &nbsp; &nbsp; &nbsp; &nbsp; &nbsp; &nbsp; &nbsp; &nbsp; &nbsp; &nbsp; &nbsp; |\n",
    "| :------------- | -------------: |\n",
    "| $e^x$  | $ 1+ x + \\frac{x^2}{2!} + \\frac{x^3}{3!} + \\frac{x^4}{4!} + \\ldots  $  |\n",
    "| $\\sin(x)$  | $ x - \\frac{x^3}{3!} + \\frac{x^5}{5!} - \\frac{x^7}{7!} + \\ldots $  |\n",
    "| $\\cos(x)$  | $ 1 - \\frac{x^2}{2!} + \\frac{x^4}{4!} - \\frac{x^6}{6!} + \\ldots $  |\n",
    "| $\\frac{1}{1+x}$, $-1 < x < 1 $  | $ 1 - x + x^2 - x^3 + x^4 -x^5 + \\ldots $  |\n",
    "\n",
    "Oprócz tego dostępne są nam techniki oparte ułamki łańcuchowe w kilku wybranych przypadkach, np.\n",
    "\n",
    "$$\n",
    "e^x = 1 + \\frac{x}{\n",
    "1 - \\frac{x}{\n",
    "    2 + \\frac{x}{\n",
    "        3- \\frac{x}{\n",
    "            2+\\frac{x}{\n",
    "                5 - \\frac{x}{2+\\ldots}\n",
    "                }\n",
    "            } \n",
    "        }\n",
    "    } \n",
    "}\n",
    "$$\n",
    "\n",
    "$$\n",
    "\\tan x = \\frac{1}{\n",
    "\\frac{1}{x} - \\frac{1}{\n",
    "    \\frac{3}{x} - \\frac{1}{\n",
    "        \\frac{5}{x}- \\frac{1}{\n",
    "            \\frac{7}{x} - \\frac{1}{\n",
    "                \\frac{9}{x} - \\ldots\n",
    "                }\n",
    "            } \n",
    "        }\n",
    "    } \n",
    "}\n",
    "$$\n",
    "\n",
    "Przyjrzyjmy się jedynie przykładowej implementacji wybranej funkcji"
   ]
  },
  {
   "cell_type": "code",
   "execution_count": 35,
   "metadata": {},
   "outputs": [],
   "source": [
    "def my_sin(x, n):\n",
    "    result = x\n",
    "    temp_x = x\n",
    "    x_sqrt = x*x\n",
    "    factor = 1\n",
    "    for i in range(n):\n",
    "        temp_x *= x_sqrt\n",
    "        factor *= (4*i+3)*(4*i+2)\n",
    "        result -= temp_x / factor\n",
    "        temp_x *= x_sqrt\n",
    "        factor *= (4*i+5)*(4*i+4)\n",
    "        result += temp_x / factor\n",
    "    return result"
   ]
  },
  {
   "cell_type": "code",
   "execution_count": 36,
   "metadata": {},
   "outputs": [
    {
     "name": "stdout",
     "output_type": "stream",
     "text": [
      "Przybliżenie sin(1) wynosi 0.8414709848078965\n",
      "Przybliżenie sin(1) no 1 wynosi 0.8416666666666667\n",
      "Przybliżenie sin(1) no 2 wynosi 0.8414710097001764\n",
      "Przybliżenie sin(1) no 3 wynosi 0.8414709848086585\n",
      "Przybliżenie sin(1) no 4 wynosi 0.8414709848078965\n",
      "Przybliżenie sin(1) no 5 wynosi 0.8414709848078965\n",
      "Przybliżenie sin(1) no 6 wynosi 0.8414709848078965\n",
      "Przybliżenie sin(1) no 7 wynosi 0.8414709848078965\n",
      "Przybliżenie sin(1) no 8 wynosi 0.8414709848078965\n",
      "Przybliżenie sin(1) no 9 wynosi 0.8414709848078965\n"
     ]
    }
   ],
   "source": [
    "print(f'Przybliżenie sin(1) wynosi {math.sin(1)}')\n",
    "for i in range(1,10):\n",
    "    print(f'Przybliżenie sin(1) no {i} wynosi {my_sin(1,i)}')"
   ]
  },
  {
   "cell_type": "markdown",
   "metadata": {},
   "source": [
    "Jak obserwujemy zbieżność do rozwiązania jest w tym wypadku bardzo szybka\n",
    "\n",
    "## Zadania / ćwiczenia\n",
    "\n",
    "### Zadanie 1\n",
    "\n",
    "Proszę zmodyfikować implementacji funkcji my_sin tak aby wykorzystywała pakiet dicimal i pozwoliła na wyznaczanie wartości funkcji w ustalonej dokładności\n",
    "\n",
    "### Zadanie 2\n",
    "\n",
    "Proszę przygotować implementację innej wybranej przez siebie funkcji elementarnej"
   ]
  },
  {
   "cell_type": "markdown",
   "metadata": {},
   "source": []
  }
 ],
 "metadata": {
  "kernelspec": {
   "display_name": "Python 3 (ipykernel)",
   "language": "python",
   "name": "python3"
  },
  "language_info": {
   "codemirror_mode": {
    "name": "ipython",
    "version": 3
   },
   "file_extension": ".py",
   "mimetype": "text/x-python",
   "name": "python",
   "nbconvert_exporter": "python",
   "pygments_lexer": "ipython3",
   "version": "3.9.7"
  }
 },
 "nbformat": 4,
 "nbformat_minor": 2
}
