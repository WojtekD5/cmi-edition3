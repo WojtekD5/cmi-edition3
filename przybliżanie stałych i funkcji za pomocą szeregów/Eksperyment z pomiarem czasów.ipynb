{
 "cells": [
  {
   "cell_type": "markdown",
   "id": "863eb824",
   "metadata": {},
   "source": [
    "Miernik czasu"
   ]
  },
  {
   "cell_type": "code",
   "execution_count": 1,
   "id": "1bfa583c",
   "metadata": {},
   "outputs": [],
   "source": [
    "import time\n",
    "import math"
   ]
  },
  {
   "cell_type": "code",
   "execution_count": 2,
   "id": "83192618",
   "metadata": {},
   "outputs": [],
   "source": [
    "class Timer(object):\n",
    "    \n",
    "    def __enter__(self):\n",
    "        self.start = time.time()\n",
    "        return self\n",
    "    \n",
    "    def __exit__(self, *args):\n",
    "        self.end = time.time()\n",
    "        self.time = self.end - self.start"
   ]
  },
  {
   "cell_type": "code",
   "execution_count": 3,
   "id": "184735dd",
   "metadata": {},
   "outputs": [],
   "source": [
    "from decimal import *\n",
    "getcontext().prec = 1000\n",
    "\n",
    "def e_taylor_series_decimal(n):\n",
    "    sum = Decimal(0)\n",
    "    temp_factorial = Decimal(1);\n",
    "    for i in range(1,n):\n",
    "        temp_factorial *= Decimal(i)\n",
    "        sum += Decimal(1)/temp_factorial\n",
    "    return sum+1\n",
    "def e_continued_fraction_decimal(n):\n",
    "    tmp = Decimal(n)\n",
    "    for i in reversed(range(1,n)):\n",
    "        tmp = Decimal(i) + Decimal(i) / tmp\n",
    "    return 2+1/tmp\n",
    "def e_brother_formula_decimal(n):\n",
    "    sum = Decimal(1)\n",
    "    temp_factorial = Decimal(1)\n",
    "    for i in range(1,n):\n",
    "        temp_factorial *= Decimal(2*i)\n",
    "        temp_factorial *= Decimal(2*i+1)\n",
    "        sum += Decimal(i+1) / temp_factorial\n",
    "    return Decimal(2)*sum"
   ]
  },
  {
   "cell_type": "code",
   "execution_count": 4,
   "id": "ef0ee388",
   "metadata": {},
   "outputs": [],
   "source": [
    "with Timer() as timer:\n",
    "    e= e_brother_formula_decimal(100000)"
   ]
  },
  {
   "cell_type": "code",
   "execution_count": 5,
   "id": "5ebad5c6",
   "metadata": {},
   "outputs": [
    {
     "data": {
      "text/plain": [
       "2.446411371231079"
      ]
     },
     "execution_count": 5,
     "metadata": {},
     "output_type": "execute_result"
    }
   ],
   "source": [
    "timer.time "
   ]
  },
  {
   "cell_type": "code",
   "execution_count": 6,
   "id": "7bfbb258",
   "metadata": {},
   "outputs": [
    {
     "data": {
      "text/plain": [
       "Decimal('2.718281828459045235360287471352662497757247093699959574966967627724076630353547594571382178525166427427466391932003059921817413596629043572900334295260595630738132328627943490763233829880753195251019011573834187930702154089149934884167509244761460668082264800168477411853742345442437107539077744992069551702761838606261331384583000752044933826560297606737113200709328709127443747047230696977209310141692836819025515108657463772111252389784425056953696770785449969967946864454905987931636889230098793127736178215424999229576351482208269895193668033182528869398496465105820939239829488793320362509443117301238197068416140397019837679320683282376464804295311802328782509819455815301756717361332069811250996181881593041690351598888519345807273866738589422879228499892086805825749279610484198444363463244968487560233624827041978623209002160990235304369941849146314093431738143640546253152096183690888707016768396424378140592714563549061303107208510383750510115747704171898610687396965521267154688957035036')"
      ]
     },
     "execution_count": 6,
     "metadata": {},
     "output_type": "execute_result"
    }
   ],
   "source": [
    "e"
   ]
  },
  {
   "cell_type": "code",
   "execution_count": 7,
   "id": "d64fec04",
   "metadata": {},
   "outputs": [],
   "source": [
    "iterations = [i for i in range(1,500,5)]\n",
    "functions = [e_taylor_series_decimal, e_continued_fraction_decimal, e_brother_formula_decimal]\n",
    "functions_names = ['taylor', 'continued', 'brother']\n"
   ]
  },
  {
   "cell_type": "code",
   "execution_count": 8,
   "id": "89b05c93",
   "metadata": {},
   "outputs": [
    {
     "name": "stdout",
     "output_type": "stream",
     "text": [
      "CPU times: user 3.52 s, sys: 0 ns, total: 3.52 s\n",
      "Wall time: 3.52 s\n"
     ]
    }
   ],
   "source": [
    "%%time\n",
    "results = []\n",
    "for it in iterations:\n",
    "    for f, name in zip(functions, functions_names):\n",
    "        with Timer() as timer:\n",
    "            value = f(it)\n",
    "        error = abs(e - value)\n",
    "        t = timer.time\n",
    "        results.append([name, t, error.log10() if error > 0 else 0])\n"
   ]
  },
  {
   "cell_type": "code",
   "execution_count": 9,
   "id": "1c73061b",
   "metadata": {},
   "outputs": [
    {
     "data": {
      "text/html": [
       "<div>\n",
       "<style scoped>\n",
       "    .dataframe tbody tr th:only-of-type {\n",
       "        vertical-align: middle;\n",
       "    }\n",
       "\n",
       "    .dataframe tbody tr th {\n",
       "        vertical-align: top;\n",
       "    }\n",
       "\n",
       "    .dataframe thead th {\n",
       "        text-align: right;\n",
       "    }\n",
       "</style>\n",
       "<table border=\"1\" class=\"dataframe\">\n",
       "  <thead>\n",
       "    <tr style=\"text-align: right;\">\n",
       "      <th></th>\n",
       "      <th>Metoda</th>\n",
       "      <th>Czas</th>\n",
       "      <th>Dokładność</th>\n",
       "    </tr>\n",
       "  </thead>\n",
       "  <tbody>\n",
       "    <tr>\n",
       "      <th>0</th>\n",
       "      <td>taylor</td>\n",
       "      <td>0.000018</td>\n",
       "      <td>0.23509439727547039031635664050141910814960761...</td>\n",
       "    </tr>\n",
       "    <tr>\n",
       "      <th>1</th>\n",
       "      <td>continued</td>\n",
       "      <td>0.000019</td>\n",
       "      <td>-0.5501851390084110828437681452683695724167165...</td>\n",
       "    </tr>\n",
       "    <tr>\n",
       "      <th>2</th>\n",
       "      <td>brother</td>\n",
       "      <td>0.000008</td>\n",
       "      <td>-0.1437051204799536150135739005485855105388354...</td>\n",
       "    </tr>\n",
       "    <tr>\n",
       "      <th>3</th>\n",
       "      <td>taylor</td>\n",
       "      <td>0.000019</td>\n",
       "      <td>-2.7917839674394887324522002211730377906618937...</td>\n",
       "    </tr>\n",
       "    <tr>\n",
       "      <th>4</th>\n",
       "      <td>continued</td>\n",
       "      <td>0.000123</td>\n",
       "      <td>-4.7329057758751394530990963380911517255882706...</td>\n",
       "    </tr>\n",
       "    <tr>\n",
       "      <th>5</th>\n",
       "      <td>brother</td>\n",
       "      <td>0.000023</td>\n",
       "      <td>-8.6457854272159527168440210755827275826596719...</td>\n",
       "    </tr>\n",
       "    <tr>\n",
       "      <th>6</th>\n",
       "      <td>taylor</td>\n",
       "      <td>0.000037</td>\n",
       "      <td>-7.5636359895268575146715087589741337145763595...</td>\n",
       "    </tr>\n",
       "    <tr>\n",
       "      <th>7</th>\n",
       "      <td>continued</td>\n",
       "      <td>0.000233</td>\n",
       "      <td>-10.099955674521022910578263844470427423599602...</td>\n",
       "    </tr>\n",
       "    <tr>\n",
       "      <th>8</th>\n",
       "      <td>brother</td>\n",
       "      <td>0.000042</td>\n",
       "      <td>-21.031498548627923721457417322264027245627023...</td>\n",
       "    </tr>\n",
       "    <tr>\n",
       "      <th>9</th>\n",
       "      <td>taylor</td>\n",
       "      <td>0.000045</td>\n",
       "      <td>-13.294383642533156585646425918852616601259199...</td>\n",
       "    </tr>\n",
       "  </tbody>\n",
       "</table>\n",
       "</div>"
      ],
      "text/plain": [
       "      Metoda      Czas                                         Dokładność\n",
       "0     taylor  0.000018  0.23509439727547039031635664050141910814960761...\n",
       "1  continued  0.000019  -0.5501851390084110828437681452683695724167165...\n",
       "2    brother  0.000008  -0.1437051204799536150135739005485855105388354...\n",
       "3     taylor  0.000019  -2.7917839674394887324522002211730377906618937...\n",
       "4  continued  0.000123  -4.7329057758751394530990963380911517255882706...\n",
       "5    brother  0.000023  -8.6457854272159527168440210755827275826596719...\n",
       "6     taylor  0.000037  -7.5636359895268575146715087589741337145763595...\n",
       "7  continued  0.000233  -10.099955674521022910578263844470427423599602...\n",
       "8    brother  0.000042  -21.031498548627923721457417322264027245627023...\n",
       "9     taylor  0.000045  -13.294383642533156585646425918852616601259199..."
      ]
     },
     "execution_count": 9,
     "metadata": {},
     "output_type": "execute_result"
    }
   ],
   "source": [
    "import pandas as pd\n",
    "df = pd.DataFrame(results, columns = ['Metoda', 'Czas', 'Dokładność'])\n",
    "df.head(10)"
   ]
  },
  {
   "cell_type": "code",
   "execution_count": 10,
   "id": "edf70acb",
   "metadata": {},
   "outputs": [
    {
     "data": {
      "image/png": "[encoded data removed]",
      "text/plain": [
       "<Figure size 432x288 with 1 Axes>"
      ]
     },
     "metadata": {
      "needs_background": "light"
     },
     "output_type": "display_data"
    }
   ],
   "source": [
    "import matplotlib.pyplot as plt\n",
    "\n",
    "for metoda, c in zip(functions_names,['red','green','blue']):\n",
    "    data = df[df['Metoda'] == metoda]\n",
    "    plt.scatter(data['Czas'], data['Dokładność'], color = c, label=metoda)\n",
    "plt.legend()\n",
    "plt.show()"
   ]
  },
  {
   "cell_type": "code",
   "execution_count": null,
   "id": "e83e0b70",
   "metadata": {},
   "outputs": [],
   "source": []
  }
 ],
 "metadata": {
  "kernelspec": {
   "display_name": "Python 3 (ipykernel)",
   "language": "python",
   "name": "python3"
  },
  "language_info": {
   "codemirror_mode": {
    "name": "ipython",
    "version": 3
   },
   "file_extension": ".py",
   "mimetype": "text/x-python",
   "name": "python",
   "nbconvert_exporter": "python",
   "pygments_lexer": "ipython3",
   "version": "3.9.7"
  }
 },
 "nbformat": 4,
 "nbformat_minor": 5
}
