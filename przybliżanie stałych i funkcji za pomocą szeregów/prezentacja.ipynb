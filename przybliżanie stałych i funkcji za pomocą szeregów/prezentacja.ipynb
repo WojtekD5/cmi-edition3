{
 "cells": [
  {
   "cell_type": "markdown",
   "id": "26b00232",
   "metadata": {
    "slideshow": {
     "slide_type": "slide"
    }
   },
   "source": [
    "# Przybliżanie stałych i funkcji za pomocą sum szeregów"
   ]
  },
  {
   "cell_type": "markdown",
   "id": "5788bbcd",
   "metadata": {
    "slideshow": {
     "slide_type": "slide"
    }
   },
   "source": [
    "Czym jest programowanie komputera?\n",
    "\n",
    "* Można by przyjąć, że jest to bardzo podobne do uczenia. \n",
    "* Programista analizuje czynność lub inną składową, a następnie uczy komputer jak ją wykonać, lub w czym leży istota rzeczy. \n",
    "* Jeśli umie coś wykonać programista - może nauczyć tego komputer. \n",
    "* A tego co umie komputer musiał nauczyć go pewien programista."
   ]
  },
  {
   "cell_type": "markdown",
   "id": "eaec96e0",
   "metadata": {
    "slideshow": {
     "slide_type": "subslide"
    }
   },
   "source": [
    "Jeśli byśmy chcieli nauczyć komputer obliczać rozwiązanie równania liniowego $ax+b = y$ wystarczy napisać"
   ]
  },
  {
   "cell_type": "code",
   "execution_count": 1,
   "id": "7bd9a1bf",
   "metadata": {
    "slideshow": {
     "slide_type": "fragment"
    }
   },
   "outputs": [
    {
     "data": {
      "text/plain": [
       "-1.0"
      ]
     },
     "execution_count": 1,
     "metadata": {},
     "output_type": "execute_result"
    }
   ],
   "source": [
    "def solve_linear(a,b,y):\n",
    "    if a==0 and b != y :\n",
    "        return None\n",
    "    elif a==0 and b == y:\n",
    "        return (float('-inf'), float('inf'))\n",
    "    else:\n",
    "        return (y-b) / a\n",
    "\n",
    "solve_linear(1,3,2)"
   ]
  },
  {
   "cell_type": "markdown",
   "id": "549f4804",
   "metadata": {
    "slideshow": {
     "slide_type": "subslide"
    }
   },
   "source": [
    "Przyjrzyjmy się teraz trudniejszemu zadaniu. Jak obliczyć wartość $e^2$ ? Ha trywialne !! Wystarczy napisać\n"
   ]
  },
  {
   "cell_type": "code",
   "execution_count": 2,
   "id": "917340e1",
   "metadata": {
    "slideshow": {
     "slide_type": "fragment"
    }
   },
   "outputs": [
    {
     "data": {
      "text/plain": [
       "7.38905609893065"
      ]
     },
     "execution_count": 2,
     "metadata": {},
     "output_type": "execute_result"
    }
   ],
   "source": [
    "import math\n",
    "math.exp(2.0)"
   ]
  },
  {
   "cell_type": "markdown",
   "id": "926e5126",
   "metadata": {
    "slideshow": {
     "slide_type": "subslide"
    }
   },
   "source": [
    "Zauważmy jednak dwie istotne rzeczy w takim podejściu\n",
    "\n",
    "* Liczba $e^2$ jest liczbą niewymierną - zatem na pewno nie jest dokładnie tą liczbą powyżej. Komputer przecież nigdy nie będzie mieć dość pamięci, aby zaprezentować wszystkie cyfry (jest ich oczywiście nieskończenie wiele) liczby niewymiernej. Zatem oczywiście jest to jedynie pewne przybliżenie prawdziwej wartości (w sumie niewiemy nawet jak bardzo dokładne)\n",
    "* Ponadto jeśli w pewnej bibliotece istnieje funkcja exp, to ktoś ją musiał napisać. Ktoś musiał nauczyć komputer jak policzyć tę wartość (to przybliżenie). Najciekawsze jednak jest to, że w sumie w tej chwili nie wiemy jak je policzyć samodzielnie na kartce. (**Najwięksi spryciarze by pewnie zaczęli od przypomnienia, że $2.71 \\leq e \\leq 2.72$ policzyli kwadrat obustron, jako że $e^x$ jest rosnąca to otrzymaliby pewne przybliżenie. Jednak nawet by to kontynuować trzeba by mieć lepsza dokładność liczby $e$ **)\n",
    "\n",
    "W tej lekcji pokażemy jak działają (jakie techniki zastosowali programisci przy obliczeniu/pisaniu) obliczenia skomplikowanych funkcji elementarnych oraz w jaki sposób zostały policzone przybliżenia ważnych stałych.\n",
    "\n"
   ]
  },
  {
   "cell_type": "markdown",
   "id": "1f80e14f",
   "metadata": {
    "slideshow": {
     "slide_type": "subslide"
    }
   },
   "source": [
    "## Plan warsztatu\n",
    "\n",
    "Poszukiwanie przybliżeń najważniejszych stałych\n",
    "\n",
    "* Liczby e\n",
    "* Liczby $\\pi$\n",
    "* Liczby $\\sqrt{2}$\n",
    "* Funkcji na przykładzie $\\sin$\n",
    "\n",
    "Kody możecie Państwo uruchamiać sobie samodzielnie po pobraniu repozytorium z \n",
    "\n",
    "[https://github.com/centrum-mistrzostwa-informatycznego/cmi-edition3]()"
   ]
  },
  {
   "cell_type": "markdown",
   "id": "858179e1",
   "metadata": {
    "slideshow": {
     "slide_type": "slide"
    }
   },
   "source": [
    "# Liczba $e$"
   ]
  },
  {
   "cell_type": "markdown",
   "id": "7609268f",
   "metadata": {
    "slideshow": {
     "slide_type": "subslide"
    }
   },
   "source": [
    "## Granica ciągu\n",
    "\n",
    "Naszą przygodę z przybliżaniem liczb rozpoczniemy od liczby $e$. Jak wiadomo z definicji matematycznej liczba ta spełnia warunek\n",
    "\n",
    "$$\n",
    "e = \\lim_{n \\to \\infty} \\left( 1 + \\frac{1}{n} \\right)^n.\n",
    "$$\n",
    "\n",
    "Możemy zatem pokusić się o obliczanie kolejnych wartości ciągu i obserwowanie obliczeń."
   ]
  },
  {
   "cell_type": "code",
   "execution_count": 3,
   "id": "92816550",
   "metadata": {
    "slideshow": {
     "slide_type": "subslide"
    }
   },
   "outputs": [
    {
     "name": "stdout",
     "output_type": "stream",
     "text": [
      "Przybliżenie 1 wynosi 2.0\n",
      "Przybliżenie 2 wynosi 2.25\n",
      "Przybliżenie 3 wynosi 2.37037037037037\n",
      "Przybliżenie 4 wynosi 2.44140625\n",
      "Przybliżenie 5 wynosi 2.4883199999999994\n",
      "Przybliżenie 6 wynosi 2.5216263717421135\n",
      "Przybliżenie 7 wynosi 2.546499697040712\n",
      "Przybliżenie 8 wynosi 2.565784513950348\n",
      "Przybliżenie 9 wynosi 2.5811747917131984\n",
      "Przybliżenie 10 wynosi 2.5937424601000023\n",
      "Przybliżenie 11 wynosi 2.6041990118975287\n",
      "Przybliżenie 12 wynosi 2.613035290224676\n",
      "Przybliżenie 13 wynosi 2.6206008878857308\n",
      "Przybliżenie 14 wynosi 2.6271515563008685\n",
      "Przybliżenie 15 wynosi 2.6328787177279187\n",
      "Przybliżenie 16 wynosi 2.6379284973666\n",
      "Przybliżenie 17 wynosi 2.64241437518311\n",
      "Przybliżenie 18 wynosi 2.6464258210976865\n",
      "Przybliżenie 19 wynosi 2.650034326640442\n"
     ]
    }
   ],
   "source": [
    "def e_ciagiem(n):\n",
    "    return (1.0+1.0/n)**n # 1 + 1 + n-1 = n+1\n",
    "\n",
    "for i in range(1,20):\n",
    "    print(f'Przybliżenie {i} wynosi {e_ciagiem(i)}')"
   ]
  },
  {
   "cell_type": "code",
   "execution_count": 4,
   "id": "feb5e39d",
   "metadata": {
    "slideshow": {
     "slide_type": "subslide"
    }
   },
   "outputs": [
    {
     "data": {
      "text/plain": [
       "2.718281828459045"
      ]
     },
     "execution_count": 4,
     "metadata": {},
     "output_type": "execute_result"
    }
   ],
   "source": [
    "import math\n",
    "math.e"
   ]
  },
  {
   "cell_type": "code",
   "execution_count": 5,
   "id": "f1c020bd",
   "metadata": {
    "slideshow": {
     "slide_type": "fragment"
    }
   },
   "outputs": [
    {
     "data": {
      "text/plain": [
       "2.7181459268249255"
      ]
     },
     "execution_count": 5,
     "metadata": {},
     "output_type": "execute_result"
    }
   ],
   "source": [
    "e_ciagiem(10000)"
   ]
  },
  {
   "cell_type": "markdown",
   "id": "31c2b736",
   "metadata": {
    "slideshow": {
     "slide_type": "fragment"
    }
   },
   "source": [
    "Widzimy zatem, że nawet biorąc 1000 pierwszy przybliżeń - nie udało nam się uzyskać przybliżenia lepszego niż rzędu $0.01$"
   ]
  },
  {
   "cell_type": "code",
   "execution_count": 6,
   "id": "6b56cdcd",
   "metadata": {
    "slideshow": {
     "slide_type": "fragment"
    }
   },
   "outputs": [
    {
     "name": "stdout",
     "output_type": "stream",
     "text": [
      "Przybliżenie 1000 wynosi 2.7169239322355936\n"
     ]
    }
   ],
   "source": [
    "print(f'Przybliżenie {1000} wynosi {e_ciagiem(1000)}')"
   ]
  },
  {
   "cell_type": "markdown",
   "id": "75696363",
   "metadata": {
    "slideshow": {
     "slide_type": "subslide"
    }
   },
   "source": [
    "Zastanówmy się też chwilę nad złożonością obliczeniową naszego rozwiązania. Początkowo wykonujemy jedno dzielenie oraz jedno dodawania. Czyli 2 operacje. Potem jednak dokonujemy potęgowania. Rozsądnie jest przyjąć, że potęgowanie oznaczać będzie $n-1$ mnożeń. Co łącznie daje $n+1$ operacji zmiennoprzecinkowych.\n",
    "```{python}\n",
    "def e_ciagiem(n):\n",
    "    return (1.0+1.0/n)**n # 1 + 1 + n-1 = n+1\n",
    "```"
   ]
  },
  {
   "cell_type": "markdown",
   "id": "aec37a7c",
   "metadata": {
    "slideshow": {
     "slide_type": "subslide"
    }
   },
   "source": [
    "## Wzór Taylora\n",
    "\n",
    "W drugim podejściu wykorzystywać będziemy słynne twierdzenie o wzorze Taylora. Pozwala ono odnajdywać wielomiany bliskie funkcją posiadającym odpowiednio dobrą klasę różniczkowalności. Wykorzystamy tu zatem własność, że $e = exp(1)$. Najpierw przypomnijmy samo sformułowanie twierdzenia:\n",
    "\n",
    "**Twierdzenie Taylora**\n",
    "*Niech $[a,b] \\subset \\mathbb{R} $ pewien przedział oraz $ f: [a,b] \\to \\mathbb{R}$ będzie funkcją $(n+1)$ różniczkowalną na przedziale $[a,b]$ w sposób ciągły. Wówczas dla każdego punktu z przedziału $(a,b)$ spełniony jest następujący wzór\n",
    "$$\n",
    "f(x) = f(a) + \\frac{x-a}{1!} f^{(1)}(a) + \\frac{(x-a)^2}{2!} f^{(2)}(a) + \\ldots + \\frac{(x-a)^n}{n!} + \\frac{(x-a)^{n+1}}{(n+1)!} f^{(n+1)} (\\xi),\n",
    "$$\n",
    "gdzie $\\xi \\in [x,a]$ (gdy $x < a$ lub do $[a,x]$ jeśli $x >a$)*"
   ]
  },
  {
   "cell_type": "markdown",
   "id": "4487910a",
   "metadata": {
    "slideshow": {
     "slide_type": "subslide"
    }
   },
   "source": [
    "W efekcie stosowania powyższego twierdzenia do gładkiej funkcji $e^x$ uzyskujemy przybliżenie szeregiem\n",
    "$$\n",
    "e^x = 1 + \\frac{x}{1!} + \\frac{x^2}{2!} + \\frac{x^3}{3!} + \\ldots\n",
    "$$\n",
    "\n",
    "Zatem aby obliczyć $e$ możemy szukać przybliżeń szeregiem\n",
    "$$\n",
    "e = 1 + \\frac{1}{1!} + \\frac{1}{2!} + \\frac{1}{3!} + \\ldots\n",
    "$$"
   ]
  },
  {
   "cell_type": "code",
   "execution_count": 7,
   "id": "783afe03",
   "metadata": {
    "slideshow": {
     "slide_type": "subslide"
    }
   },
   "outputs": [
    {
     "name": "stdout",
     "output_type": "stream",
     "text": [
      "Przybliżenie 1 wynosi 1\n",
      "Przybliżenie 2 wynosi 2.0\n",
      "Przybliżenie 3 wynosi 2.5\n",
      "Przybliżenie 4 wynosi 2.666666666666667\n",
      "Przybliżenie 5 wynosi 2.7083333333333335\n",
      "Przybliżenie 6 wynosi 2.716666666666667\n",
      "Przybliżenie 7 wynosi 2.718055555555556\n",
      "Przybliżenie 8 wynosi 2.7182539682539684\n",
      "Przybliżenie 9 wynosi 2.71827876984127\n",
      "Przybliżenie 10 wynosi 2.7182815255731922\n",
      "Przybliżenie 11 wynosi 2.718281801146385\n",
      "Przybliżenie 12 wynosi 2.718281826198493\n",
      "Przybliżenie 13 wynosi 2.7182818282861687\n",
      "Przybliżenie 14 wynosi 2.7182818284467594\n",
      "Przybliżenie 15 wynosi 2.71828182845823\n",
      "Przybliżenie 16 wynosi 2.718281828458995\n",
      "Przybliżenie 17 wynosi 2.7182818284590424\n",
      "Przybliżenie 18 wynosi 2.7182818284590455\n",
      "Przybliżenie 19 wynosi 2.7182818284590455\n",
      "Przybliżenie 20 wynosi 2.7182818284590455\n"
     ]
    }
   ],
   "source": [
    "def e_taylor_series(n):\n",
    "    sum = 0\n",
    "    temp_factorial =1;\n",
    "    for i in range(1,n): \n",
    "        temp_factorial *= i\n",
    "        sum += 1/temp_factorial\n",
    "    return sum+1\n",
    "for i in range(1,21):\n",
    "    print(f'Przybliżenie {i} wynosi {e_taylor_series(i)}')"
   ]
  },
  {
   "cell_type": "markdown",
   "id": "05ea4f43",
   "metadata": {
    "slideshow": {
     "slide_type": "subslide"
    }
   },
   "source": [
    "Obserwujemy, że już od zsumowanie 18 elementów pozwoliło nam osiągnąć stabilną dokładność przybliżenia liczby $e$. Wynik jest znacząco lepszy od metody ciągowej jednak pamiętajmy o ilości obliczeń. Tu aby policzyć n-te przybliżenia należy wykonać (n-1) mnożeń w silnii, (n-1) podzieleń oraz n sum. Zatem ilość operacji to około 3n operacji zmienno przecinkowych. Zatem ilość operacji przy 18 iteracji to około 54 tymczasem, czyli jest to bliskie iteracji 54 ciągowo"
   ]
  },
  {
   "cell_type": "code",
   "execution_count": 8,
   "id": "e97765a2",
   "metadata": {
    "slideshow": {
     "slide_type": "fragment"
    }
   },
   "outputs": [
    {
     "name": "stdout",
     "output_type": "stream",
     "text": [
      "Przybliżenie 18 wynosi 2.7182818284590455\n"
     ]
    }
   ],
   "source": [
    " print(f'Przybliżenie {18} wynosi {e_taylor_series(18)}')"
   ]
  },
  {
   "cell_type": "code",
   "execution_count": 9,
   "id": "139301ff",
   "metadata": {
    "slideshow": {
     "slide_type": "fragment"
    }
   },
   "outputs": [
    {
     "name": "stdout",
     "output_type": "stream",
     "text": [
      "Przybliżenie 54 wynosi 2.6935323893818506\n"
     ]
    }
   ],
   "source": [
    "print(f'Przybliżenie {54} wynosi {e_ciagiem(54)}')"
   ]
  },
  {
   "cell_type": "markdown",
   "id": "8d856296",
   "metadata": {
    "slideshow": {
     "slide_type": "subslide"
    }
   },
   "source": [
    "## Ułamek łańcuchowy\n",
    "\n",
    "Ciekawą metodą przybliżania liczby e jest ułamek łańcuchowy. Okazuje się, że bardzo wiele liczb niewymiernych posiada postać tzw. ułamka łańcuchowego (**Tak naprawdę wszystkie liczby rzeczywiste mają taką postać, kwestia jednak podania formuły do rozwijania go w taki ułamek**). Dla liczby $e$ udowodniony jest związek z następującym ułamkiem\n",
    "\n",
    "$$\n",
    "e = 2 + \\frac{1}{1+ \\frac{1}{2 + \\frac{2}{3 + \\frac{3}{4 + \\frac{4}{\\ldots}}} } }\n",
    "$$\n",
    "\n",
    "Przyjrzyjmy się czy z tej postaci udaje nam się uzyskać zadowalającą dokładność\n"
   ]
  },
  {
   "cell_type": "code",
   "execution_count": 10,
   "id": "606ad778",
   "metadata": {
    "slideshow": {
     "slide_type": "subslide"
    }
   },
   "outputs": [
    {
     "name": "stdout",
     "output_type": "stream",
     "text": [
      "Przybliżenie 1 wynosi 3.0\n",
      "Przybliżenie 2 wynosi 2.6666666666666665\n",
      "Przybliżenie 3 wynosi 2.7272727272727275\n",
      "Przybliżenie 4 wynosi 2.7169811320754715\n",
      "Przybliżenie 5 wynosi 2.7184466019417477\n",
      "Przybliżenie 6 wynosi 2.718263331760264\n",
      "Przybliżenie 7 wynosi 2.71828369389345\n",
      "Przybliżenie 8 wynosi 2.7182816576664037\n",
      "Przybliżenie 9 wynosi 2.7182818427778273\n",
      "Przybliżenie 10 wynosi 2.7182818273518743\n",
      "Przybliżenie 11 wynosi 2.718281828538486\n",
      "Przybliżenie 12 wynosi 2.718281828453728\n",
      "Przybliżenie 13 wynosi 2.7182818284593786\n",
      "Przybliżenie 14 wynosi 2.7182818284590256\n",
      "Przybliżenie 15 wynosi 2.7182818284590464\n",
      "Przybliżenie 16 wynosi 2.718281828459045\n",
      "Przybliżenie 17 wynosi 2.7182818284590455\n",
      "Przybliżenie 18 wynosi 2.7182818284590455\n",
      "Przybliżenie 19 wynosi 2.7182818284590455\n",
      "Przybliżenie 20 wynosi 2.7182818284590455\n"
     ]
    }
   ],
   "source": [
    "def e_continued_fraction(n): \n",
    "    tmp = n\n",
    "    for i in reversed(range(1,n)): \n",
    "        tmp = i + i / tmp\n",
    "    return 2+1/tmp\n",
    "\n",
    "for i in range(1,21):\n",
    "    print(f'Przybliżenie {i} wynosi {e_continued_fraction(i)}')"
   ]
  },
  {
   "cell_type": "markdown",
   "id": "6eb3ebed",
   "metadata": {
    "slideshow": {
     "slide_type": "subslide"
    }
   },
   "source": [
    "Jak widzimy tu uzyskaliśmy dobre przylbliżenie już w 17tej iteracji. Oczywiście musimy uwzględnić złożoność obliczeń. Tu w każdej iteracji mamy 1 operację dodawania oraz dzielenia. Daje to łącznie 2n operacji. Zatem 17 iteracja przy złożoności 2n. Istotnie pokonujemy tu wzór z szeregu Taylora który potrzebował 18 operacji przy złożoności 3n.\n",
    "\n",
    "```{python}\n",
    "def e_continued_fraction(n): #2n+2\n",
    "    tmp = n\n",
    "    for i in reversed(range(1,n)): \n",
    "        tmp = i + i / tmp\n",
    "    return 2+1/tmp\n",
    "```\n"
   ]
  },
  {
   "cell_type": "markdown",
   "id": "4ecd8271",
   "metadata": {
    "slideshow": {
     "slide_type": "subslide"
    }
   },
   "source": [
    "## Wzór Brothera\n",
    "\n",
    "Wsród technik obliczania przybliżenia liczby e najczęściej wymienia się wzór Brothera postaci\n",
    "\n",
    "$$\n",
    "e = 2 \\sum_{i=1}^{\\infty} \\frac{i+1}{(2i+1)!}\n",
    "$$"
   ]
  },
  {
   "cell_type": "code",
   "execution_count": 11,
   "id": "3902b754",
   "metadata": {
    "slideshow": {
     "slide_type": "subslide"
    }
   },
   "outputs": [
    {
     "name": "stdout",
     "output_type": "stream",
     "text": [
      "Przybliżenie 1 wynosi 2\n",
      "Przybliżenie 2 wynosi 2.6666666666666665\n",
      "Przybliżenie 3 wynosi 2.7166666666666663\n",
      "Przybliżenie 4 wynosi 2.718253968253968\n",
      "Przybliżenie 5 wynosi 2.718281525573192\n",
      "Przybliżenie 6 wynosi 2.7182818261984925\n",
      "Przybliżenie 7 wynosi 2.7182818284467585\n",
      "Przybliżenie 8 wynosi 2.718281828458994\n",
      "Przybliżenie 9 wynosi 2.7182818284590446\n",
      "Przybliżenie 10 wynosi 2.7182818284590446\n",
      "Przybliżenie 11 wynosi 2.7182818284590446\n",
      "Przybliżenie 12 wynosi 2.7182818284590446\n",
      "Przybliżenie 13 wynosi 2.7182818284590446\n",
      "Przybliżenie 14 wynosi 2.7182818284590446\n",
      "Przybliżenie 15 wynosi 2.7182818284590446\n",
      "Przybliżenie 16 wynosi 2.7182818284590446\n",
      "Przybliżenie 17 wynosi 2.7182818284590446\n",
      "Przybliżenie 18 wynosi 2.7182818284590446\n",
      "Przybliżenie 19 wynosi 2.7182818284590446\n",
      "Przybliżenie 20 wynosi 2.7182818284590446\n"
     ]
    }
   ],
   "source": [
    "def e_brother_formula(n):\n",
    "    sum = 1\n",
    "    temp_factorial = 1\n",
    "    for i in range(1,n):\n",
    "        temp_factorial *= 2*i\n",
    "        temp_factorial *= (2*i+1)\n",
    "        sum += (i+1) / temp_factorial\n",
    "    return 2*sum\n",
    "\n",
    "for i in range(1,21):\n",
    "    print(f'Przybliżenie {i} wynosi {e_brother_formula(i)}')"
   ]
  },
  {
   "cell_type": "markdown",
   "id": "b8961536",
   "metadata": {
    "slideshow": {
     "slide_type": "subslide"
    }
   },
   "source": [
    "Widzimy, że wzór ostatecznie uzyskał gorszą dokładność niż poprzednie, ale za to w 9 iteracjach. Podobną skuteczność wykazuje poprzezdni algorytm przy 15tej iteracji. Złożoność obliczeniowa wzoru Brothera wynosi 4n, 3 operacje mnożenia oraz 1 operacja sumowania\n",
    "\n",
    "```{python}\n",
    "def e_brother_formula(n):\n",
    "    sum = 1\n",
    "    temp_factorial = 1\n",
    "    for i in range(1,n):\n",
    "        temp_factorial *= 2*i\n",
    "        temp_factorial *= (2*i+1)\n",
    "        sum += (i+1) / temp_factorial\n",
    "    return 2*sum\n",
    "```"
   ]
  },
  {
   "cell_type": "markdown",
   "id": "457fd27d",
   "metadata": {
    "slideshow": {
     "slide_type": "slide"
    }
   },
   "source": [
    "# Zmiana liczb cyfr znaczących\n",
    "\n",
    "Zauważmy, że nasze obecne prace są mocno ograniczone przez to co dostarcza nam arytmetyka dostępna zmiennym float. Na nasze szczęście w każdym języku programowania istnieją biblioteki które pozwalają na tworzenie zmiennych o dowolnie dużych precyzjach obliczeniowych. W przypadku Python jedną z takich bibliotek jest biblioteka decimal. Poniżej przykład jak należy zmodyfikować nasze obliczenia aby uzyskać życzoną przez dokładność obliczeń (w ilości cyfr)"
   ]
  },
  {
   "cell_type": "code",
   "execution_count": 12,
   "id": "fc8989f9",
   "metadata": {
    "slideshow": {
     "slide_type": "subslide"
    }
   },
   "outputs": [],
   "source": [
    "from decimal import *\n",
    "getcontext().prec = 50\n",
    "def e_taylor_series_decimal(n):\n",
    "    sum = Decimal(0)\n",
    "    temp_factorial = Decimal(1);\n",
    "    for i in range(1,n):\n",
    "        temp_factorial *= Decimal(i)\n",
    "        sum += Decimal(1)/temp_factorial\n",
    "    return sum+1\n",
    "def e_continued_fraction_decimal(n):\n",
    "    tmp = Decimal(n)\n",
    "    for i in reversed(range(1,n)):\n",
    "        tmp = Decimal(i) + Decimal(i) / tmp\n",
    "    return 2+1/tmp\n",
    "def e_brother_formula_decimal(n):\n",
    "    sum = Decimal(1)\n",
    "    temp_factorial = Decimal(1)\n",
    "    for i in range(1,n):\n",
    "        temp_factorial *= Decimal(2*i)\n",
    "        temp_factorial *= Decimal(2*i+1)\n",
    "        sum += Decimal(i+1) / temp_factorial\n",
    "    return Decimal(2)*sum"
   ]
  },
  {
   "cell_type": "code",
   "execution_count": 13,
   "id": "47ad0f82",
   "metadata": {
    "slideshow": {
     "slide_type": "subslide"
    }
   },
   "outputs": [
    {
     "name": "stdout",
     "output_type": "stream",
     "text": [
      "Przybliżenie 10 \n",
      "wynosi 2.7182815255731922398589065255731922398589065255732 \n",
      "wynosi 2.7182818273518744088075986743931517096224602330743\n",
      "wynosi 2.7182818284590452349287527283351994002986043726966    \n",
      "Przybliżenie 11 \n",
      "wynosi 2.7182818011463844797178130511463844797178130511464 \n",
      "wynosi 2.7182818285384861664135778815996451660083959085657\n",
      "wynosi 2.7182818284590452353593574317298071473772510089138    \n",
      "Przybliżenie 12 \n",
      "wynosi 2.7182818261984928651595318261984928651595318261985 \n",
      "wynosi 2.7182818284537281836930799163720348764381457017809\n",
      "wynosi 2.7182818284590452353602857925707585115463030677774    \n",
      "Przybliżenie 13 \n",
      "wynosi 2.7182818282861685639463417241195018972796750574528 \n",
      "wynosi 2.7182818284593787158742820055731316238240389442054\n",
      "wynosi 2.7182818284590452353602874687778324515093860784392    \n",
      "Przybliżenie 14 \n",
      "wynosi 2.7182818284467590023145578701134256689812245367801 \n",
      "wynosi 2.7182818284590255576129561867650242693628330632633\n",
      "wynosi 2.7182818284590452353602874713492656133721389999984    \n"
     ]
    }
   ],
   "source": [
    "for i in range(10,15):\n",
    "    print(f'''Przybliżenie {i} \\nwynosi {e_taylor_series_decimal(i)} \\nwynosi {e_continued_fraction_decimal(i)}\\nwynosi {e_brother_formula_decimal(i)}    ''')"
   ]
  },
  {
   "cell_type": "markdown",
   "id": "1d615011",
   "metadata": {
    "slideshow": {
     "slide_type": "subslide"
    }
   },
   "source": [
    "*Ciekawostka - biblioteki do obliczeń ze zmienną precyzją wykorzystują tablice małych liczb zamiast dużych typów zmiennych. Tablice oczywiście mogą się zdecydowanie bardziej rozszerzać, jednak występuje tutaj znaczące marnotrawstwo pamięci komputera oraz zwolnienie w zakresie obliczeń*"
   ]
  },
  {
   "cell_type": "code",
   "execution_count": 14,
   "id": "53a9832a",
   "metadata": {
    "slideshow": {
     "slide_type": "fragment"
    }
   },
   "outputs": [
    {
     "name": "stdout",
     "output_type": "stream",
     "text": [
      "1.14 ms ± 118 µs per loop (mean ± std. dev. of 7 runs, 100 loops each)\n"
     ]
    }
   ],
   "source": [
    "%timeit -n100 e_taylor_series_decimal(1000)"
   ]
  },
  {
   "cell_type": "code",
   "execution_count": 15,
   "id": "c7d3167d",
   "metadata": {
    "slideshow": {
     "slide_type": "fragment"
    }
   },
   "outputs": [
    {
     "name": "stdout",
     "output_type": "stream",
     "text": [
      "440 µs ± 7.85 µs per loop (mean ± std. dev. of 7 runs, 100 loops each)\n"
     ]
    }
   ],
   "source": [
    "%timeit -n100 e_taylor_series(1000)"
   ]
  },
  {
   "cell_type": "markdown",
   "id": "34cb461f",
   "metadata": {
    "slideshow": {
     "slide_type": "slide"
    }
   },
   "source": [
    "# Liczba $\\pi$"
   ]
  },
  {
   "cell_type": "markdown",
   "id": "7f211068",
   "metadata": {
    "slideshow": {
     "slide_type": "subslide"
    }
   },
   "source": [
    "## Metoda Archimedesa\n",
    "\n",
    "Drugą z ważnych stałych jest liczba Pi. Tu podobnie do naszej dyspozycji odnaleźć można wiele użytecznych formuł na wyrażenie jej wartości.\n",
    "\n",
    "Pierwszy z pomysłów pochodzi od samego Archimedesa, czyli mam ponad 2200 lat. Aby przybliżyć wartość liczby należy użyć (jak to u Archimedesa) koła. Najlepiej takiego o promieniu 1, wtedy jego pole będzie wynosić dokładnie $\\pi$. W koło możemy wpisać wielokąt foremny. Im więcej boków będzie on miał, tym lepiej wypełniał on będzie koło. \n",
    "\n",
    "Dużo trudniej uzasadnić jak znaleźć pole takiego n-kąta foremnego, ale i na to jest sposób. Wystarczy zaznaczyć środek koła, narysować promienie do każdego wierzchołka n-kąta - by ujrzeć że jest to po prostu n trójkątów. \n",
    "\n",
    "![](http://www.matematykam.pl/images/l17e10.jpg)"
   ]
  },
  {
   "cell_type": "markdown",
   "id": "5d6ae2e5",
   "metadata": {
    "slideshow": {
     "slide_type": "subslide"
    }
   },
   "source": [
    "![](http://www.matematykam.pl/images/l17e10.jpg)\n",
    "Pole pojedynczego trójkąta jest wyrażone np. wzorem\n",
    "\n",
    "$$\n",
    "P = \\frac{1}{2} \\cdot a \\cdot b \\cdot \\sin(\\alpha_{a,b}),\n",
    "$$\n",
    "gdzie $a,b$ są dwoma bokami trójkąta a $\\alpha_{a,b}$ jest kątem płaskim pomiędzy tymi bokami. \n",
    "\n",
    "Stąd nasza granica będzie mieć postać\n",
    "\n",
    "$$\n",
    "\\pi = \\lim_{n \\to \\infty} n \\cdot \\left( \\frac{1}{2} \\cdot 1 \\cdot 1 \\sin\\left(\\frac{2\\pi}{n}\\right) \\right)\n",
    "$$"
   ]
  },
  {
   "cell_type": "code",
   "execution_count": 16,
   "id": "08d69313",
   "metadata": {
    "slideshow": {
     "slide_type": "subslide"
    }
   },
   "outputs": [
    {
     "name": "stdout",
     "output_type": "stream",
     "text": [
      "Przybliżenie 20 wynosi 3.090169943749474\n",
      "Przybliżenie 21 wynosi 3.094929331314494\n",
      "Przybliżenie 22 wynosi 3.0990581252557265\n",
      "Przybliżenie 23 wynosi 3.1026628683057793\n",
      "Przybliżenie 24 wynosi 3.105828541230249\n",
      "Przybliżenie 25 wynosi 3.108623589560685\n",
      "Przybliżenie 26 wynosi 3.1111036357382504\n",
      "Przybliżenie 27 wynosi 3.1133142550229422\n",
      "Przybliżenie 28 wynosi 3.1152930753884016\n",
      "Przybliżenie 29 wynosi 3.117071383059849\n",
      "Przybliżenie 30 wynosi 3.11867536226639\n",
      "Przybliżenie 31 wynosi 3.120127061374231\n",
      "Przybliżenie 32 wynosi 3.121445152258052\n",
      "Przybliżenie 33 wynosi 3.122645531946768\n",
      "Przybliżenie 34 wynosi 3.1237418028816957\n",
      "Przybliżenie 35 wynosi 3.1247456589761415\n",
      "Przybliżenie 36 wynosi 3.125667198004746\n",
      "Przybliżenie 37 wynosi 3.126515175954208\n",
      "Przybliżenie 38 wynosi 3.127297215333944\n",
      "Przybliżenie 39 wynosi 3.128019976726325\n"
     ]
    }
   ],
   "source": [
    "def pi_ciagowo(n):\n",
    "    return 0.5 * n * math.sin(2*math.pi / n)\n",
    "for i in range(20,40):\n",
    "    print(f'Przybliżenie {i} wynosi {pi_ciagowo(i)}')"
   ]
  },
  {
   "cell_type": "markdown",
   "id": "f82f58e6",
   "metadata": {
    "slideshow": {
     "slide_type": "subslide"
    }
   },
   "source": [
    "Podejście powyżej okazuje się być jednak bardzo wolno zbieżne. Poza tym jest obciążone jeszcze dodatkowymi absurdami. Aby policzyć wartość tej granicy trzeba bowiem \n",
    "\n",
    "* umieć porachować wartość funkcji sinus,\n",
    "* znać wartość liczby $\\pi$ (czyli to czego nam potrzeba).\n",
    "\n",
    "$$\n",
    "\\pi = \\lim_{n \\to \\infty} n \\cdot \\left( \\frac{1}{2} \\cdot 1 \\cdot 1 \\sin\\left(\\frac{2\\pi}{n}\\right) \\right)\n",
    "$$"
   ]
  },
  {
   "cell_type": "markdown",
   "id": "8d5f7775",
   "metadata": {
    "slideshow": {
     "slide_type": "subslide"
    }
   },
   "source": [
    "Aby zupełnie nie zdeprecjonować tego podejścia dodajmy, że w praktyce używa się tam znanego kąta początkowego a następnie korzysta się z funkcji na połowę kąta dokładnie pisząc\n",
    "\n",
    "$$\n",
    "\\sin \\left( \\frac{\\alpha}{2} \\right) = \\sqrt{\\frac{1-\\cos \\alpha}{2}},\n",
    "$$\n",
    "\n",
    "w połączeniu z \n",
    "$$\n",
    "\\cos \\alpha = \\sqrt{1 - \\sin^2 \\alpha}\n",
    "$$\n",
    "\n",
    "Wtedy startując np. od sześciokąta (mamy wtedy $\\alpha = 60^o$) jesteśmy w stanie obliczać przybliżenia liczby $\\pi$ o ile tylko umiemy przybliżać wyniki pierwiastkowania (do czego wrócimy jeszcze później). Nie mniej skupmy się dalej na szybszych metodach."
   ]
  },
  {
   "cell_type": "markdown",
   "id": "afd2a43d",
   "metadata": {
    "slideshow": {
     "slide_type": "subslide"
    }
   },
   "source": [
    "## Ułamek łańcuchowy\n",
    "\n",
    "Również dla liczby $\\pi$ można odszukać rozwinięcie w ułamek okresowy. (*Co jest bardzo ciekawe, że dla tych dwóch specjalnych stałych znamy te rozwinięcia*)\n",
    "\n",
    "$$\n",
    "\\pi = 3 + \\frac{1^2}{6 + \\frac{3^2}{6 + \\frac{5^2}{6 + \\frac{7^2}{6+\\ldots}}} }\n",
    "$$"
   ]
  },
  {
   "cell_type": "code",
   "execution_count": 17,
   "id": "7b7225f2",
   "metadata": {
    "slideshow": {
     "slide_type": "subslide"
    }
   },
   "outputs": [
    {
     "name": "stdout",
     "output_type": "stream",
     "text": [
      "Przybliżenie 20 wynosi 3.1415657346585473\n",
      "Przybliżenie 21 wynosi 3.141616071918187\n",
      "Przybliżenie 22 wynosi 3.141572154482965\n",
      "Przybliżenie 23 wynosi 3.1416106990404735\n",
      "Przybliżenie 24 wynosi 3.141576685435031\n",
      "Przybliżenie 25 wynosi 3.14160685134755\n",
      "Przybliżenie 26 wynosi 3.141579973962182\n",
      "Przybliżenie 27 wynosi 3.141604023986232\n",
      "Przybliżenie 28 wynosi 3.141582418247748\n",
      "Przybliżenie 29 wynosi 3.1416019000322795\n",
      "Przybliżenie 30 wynosi 3.1415842726746206\n",
      "Przybliżenie 31 wynosi 3.141600273698686\n",
      "Przybliżenie 32 wynosi 3.1415857049341174\n",
      "Przybliżenie 33 wynosi 3.1415990074057163\n",
      "Przybliżenie 34 wynosi 3.141586828621159\n",
      "Przybliżenie 35 wynosi 3.141598006801351\n",
      "Przybliżenie 36 wynosi 3.1415877225444917\n",
      "Przybliżenie 37 wynosi 3.1415972057118697\n",
      "Przybliżenie 38 wynosi 3.1415884425452116\n",
      "Przybliżenie 39 wynosi 3.141596556793832\n"
     ]
    }
   ],
   "source": [
    "def pi_continued_fraction(n):\n",
    "    tmp = 6\n",
    "    for i in reversed(range(1,n)):\n",
    "        tmp = 6 + (2*i+1)**2 / tmp\n",
    "    return 3+1/tmp\n",
    "\n",
    "for i in range(20,40):\n",
    "    print(f'Przybliżenie {i} wynosi {pi_continued_fraction(i)}')"
   ]
  },
  {
   "cell_type": "markdown",
   "id": "5c0b6b53",
   "metadata": {
    "slideshow": {
     "slide_type": "subslide"
    }
   },
   "source": [
    "## Iloczyn Viete'y\n",
    "\n",
    "Kolejną technika wykorzystuje wzór Viete dla liczby $\\pi$ postaci\n",
    "\n",
    "$$\n",
    "\\frac{2}{\\pi} = \\frac{\\sqrt{2}}{2} \\cdot \\frac{\\sqrt{2+\\sqrt{2}}}{2} \\cdot \\frac{\\sqrt{2+\\sqrt{2+\\sqrt{2}}}}{2}\\cdot \\ldots\n",
    "$$"
   ]
  },
  {
   "cell_type": "code",
   "execution_count": 18,
   "id": "9f397446",
   "metadata": {
    "slideshow": {
     "slide_type": "subslide"
    }
   },
   "outputs": [
    {
     "name": "stdout",
     "output_type": "stream",
     "text": [
      "Przybliżenie 10 wynosi 3.1415914215111997\n",
      "Przybliżenie 11 wynosi 3.1415923455701176\n",
      "Przybliżenie 12 wynosi 3.141592576584872\n",
      "Przybliżenie 13 wynosi 3.1415926343385627\n",
      "Przybliżenie 14 wynosi 3.141592648776985\n",
      "Przybliżenie 15 wynosi 3.1415926523865907\n",
      "Przybliżenie 16 wynosi 3.141592653288993\n",
      "Przybliżenie 17 wynosi 3.1415926535145933\n",
      "Przybliżenie 18 wynosi 3.1415926535709935\n",
      "Przybliżenie 19 wynosi 3.1415926535850933\n",
      "Przybliżenie 20 wynosi 3.1415926535886185\n",
      "Przybliżenie 21 wynosi 3.1415926535895\n",
      "Przybliżenie 22 wynosi 3.1415926535897203\n",
      "Przybliżenie 23 wynosi 3.1415926535897754\n",
      "Przybliżenie 24 wynosi 3.141592653589789\n",
      "Przybliżenie 25 wynosi 3.1415926535897927\n",
      "Przybliżenie 26 wynosi 3.1415926535897936\n",
      "Przybliżenie 27 wynosi 3.141592653589794\n",
      "Przybliżenie 28 wynosi 3.141592653589794\n",
      "Przybliżenie 29 wynosi 3.141592653589794\n"
     ]
    }
   ],
   "source": [
    "def pi_viete(n):\n",
    "    root = 0\n",
    "    result = 1\n",
    "    for i in range(n):\n",
    "        root = math.sqrt(2+root) # używamy skomplikowanej funkcji\n",
    "        result *= root\n",
    "        result /= 2\n",
    "    return 2/result\n",
    "for i in range(10,30):\n",
    "    print(f'Przybliżenie {i} wynosi {pi_viete(i)}')"
   ]
  },
  {
   "cell_type": "markdown",
   "id": "aaafabd1",
   "metadata": {
    "slideshow": {
     "slide_type": "subslide"
    }
   },
   "source": [
    "## Wzór Wallis'a\n",
    "\n",
    "Kolejny pomysł na obliczenia opiera się o tzw. wzór Wallisa postaci\n",
    "\n",
    "$$\n",
    "\\frac{\\pi}{2} = \\frac{2}{1} \\cdot \\frac{2}{3} \\cdot \\frac{4}{3} \\cdot \\frac{4}{5} \\cdot \\frac{6}{5} \\cdot \\frac{6}{7} \\cdot \\ldots\n",
    "$$\n"
   ]
  },
  {
   "cell_type": "code",
   "execution_count": 19,
   "id": "878f5e07",
   "metadata": {
    "slideshow": {
     "slide_type": "subslide"
    }
   },
   "outputs": [
    {
     "name": "stdout",
     "output_type": "stream",
     "text": [
      "Przybliżenie 30 wynosi 3.1159482858879617\n",
      "Przybliżenie 31 wynosi 3.1167590973076567\n",
      "Przybliżenie 32 wynosi 3.1175202106403326\n",
      "Przybliżenie 33 wynosi 3.1182360591387575\n",
      "Przybliżenie 34 wynosi 3.1189105640185195\n",
      "Przybliżenie 35 wynosi 3.119547206305521\n",
      "Przybliżenie 36 wynosi 3.120149086916423\n",
      "Przybliżenie 37 wynosi 3.120718977160609\n",
      "Przybliżenie 38 wynosi 3.1212593613990784\n",
      "Przybliżenie 39 wynosi 3.121772473245437\n",
      "Przybliżenie 40 wynosi 3.1222603264214404\n",
      "Przybliżenie 41 wynosi 3.1227247411658134\n",
      "Przybliżenie 42 wynosi 3.1231673669264324\n",
      "Przybliżenie 43 wynosi 3.1235897019321017\n",
      "Przybliżenie 44 wynosi 3.123993110133307\n",
      "Przybliżenie 45 wynosi 3.1243788359155187\n",
      "Przybliżenie 46 wynosi 3.124748016919408\n",
      "Przybliżenie 47 wynosi 3.125101695246167\n",
      "Przybliżenie 48 wynosi 3.1254408272803773\n",
      "Przybliżenie 49 wynosi 3.125766292325393\n"
     ]
    }
   ],
   "source": [
    "def pi_wallis(n):\n",
    "    result = 1\n",
    "    for i in range(1,n+1):\n",
    "        result *= (2*i) * (2*i) / (2*i-1) / (2*i+1)\n",
    "    return result * 2\n",
    "for i in range(30,50):\n",
    "    print(f'Przybliżenie {i} wynosi {pi_wallis(i)}')"
   ]
  },
  {
   "cell_type": "markdown",
   "id": "1b102822",
   "metadata": {
    "slideshow": {
     "slide_type": "subslide"
    }
   },
   "source": [
    "## Szereg Gregory-Leibniza\n",
    "\n",
    "Ostatnim z najistotniejszych technik przybliża liczby $\\pi$ jest tzw. Szereg naprzemienny Gregory - Leibniza postaci\n",
    "\n",
    "$$\n",
    "\\frac{\\pi}{4} = 1 - \\frac{1}{3} + \\frac{1}{5} - \\frac{1}{7} \\pm \\ldots\n",
    "$$"
   ]
  },
  {
   "cell_type": "code",
   "execution_count": 20,
   "id": "f5a58349",
   "metadata": {
    "slideshow": {
     "slide_type": "subslide"
    }
   },
   "outputs": [
    {
     "name": "stdout",
     "output_type": "stream",
     "text": [
      "Przybliżenie 30 wynosi 3.1249271439289967\n",
      "Przybliżenie 31 wynosi 3.125464669965414\n",
      "Przybliżenie 32 wynosi 3.125968606973288\n",
      "Przybliżenie 33 wynosi 3.1264420077662343\n",
      "Przybliżenie 34 wynosi 3.126887566106529\n",
      "Przybliżenie 35 wynosi 3.127307667981234\n",
      "Przybliżenie 36 wynosi 3.127704434335447\n",
      "Przybliżenie 37 wynosi 3.1280797568782575\n",
      "Przybliżenie 38 wynosi 3.1284353282369843\n",
      "Przybliżenie 39 wynosi 3.128772667473754\n",
      "Przybliżenie 40 wynosi 3.129093141775721\n",
      "Przybliżenie 41 wynosi 3.129397984972002\n",
      "Przybliżenie 42 wynosi 3.129688313406043\n",
      "Przybliżenie 43 wynosi 3.129965139593801\n",
      "Przybliżenie 44 wynosi 3.1302293840198954\n",
      "Przybliżenie 45 wynosi 3.1304818853613083\n",
      "Przybliżenie 46 wynosi 3.1307234093778527\n",
      "Przybliżenie 47 wynosi 3.1309546566679236\n",
      "Przybliżenie 48 wynosi 3.131176269454982\n",
      "Przybliżenie 49 wynosi 3.1313888375431977\n"
     ]
    }
   ],
   "source": [
    "def pi_gregory_leibniz(n):\n",
    "    result = 0\n",
    "    for i in range(n):\n",
    "        result += 1/(4*i+1)\n",
    "        result -= 1/(4*i+3)\n",
    "    return result * 4\n",
    "for i in range(30,50):\n",
    "    print(f'Przybliżenie {i} wynosi {pi_gregory_leibniz(i)}')"
   ]
  },
  {
   "cell_type": "markdown",
   "id": "30fc79b9",
   "metadata": {
    "slideshow": {
     "slide_type": "slide"
    }
   },
   "source": [
    "# Liczba $\\sqrt{2}$"
   ]
  },
  {
   "cell_type": "markdown",
   "id": "cbb93379",
   "metadata": {
    "slideshow": {
     "slide_type": "subslide"
    }
   },
   "source": [
    "## Ułamek łańcuchowy\n",
    "Omówmy też po krótce techniki odszukania wartości związanych z pierwiastkami\n",
    "\n",
    "Mamy ułamek łańcuchowy\n",
    "$$\n",
    "\\sqrt{2} = 1 + \\frac{1}{2+\\frac{1}{2+\\frac{1}{2+\\frac{1}{2+\\ldots}}}}\n",
    "$$"
   ]
  },
  {
   "cell_type": "code",
   "execution_count": 21,
   "id": "dda1c427",
   "metadata": {
    "slideshow": {
     "slide_type": "subslide"
    }
   },
   "outputs": [
    {
     "name": "stdout",
     "output_type": "stream",
     "text": [
      "Przybliżenie 5 wynosi 1.4142857142857144\n",
      "Przybliżenie 6 wynosi 1.4142011834319526\n",
      "Przybliżenie 7 wynosi 1.4142156862745099\n",
      "Przybliżenie 8 wynosi 1.4142131979695431\n",
      "Przybliżenie 9 wynosi 1.4142136248948696\n",
      "Przybliżenie 10 wynosi 1.4142135516460548\n",
      "Przybliżenie 11 wynosi 1.4142135642135643\n",
      "Przybliżenie 12 wynosi 1.4142135620573204\n",
      "Przybliżenie 13 wynosi 1.4142135624272734\n",
      "Przybliżenie 14 wynosi 1.4142135623637995\n",
      "Przybliżenie 15 wynosi 1.4142135623746899\n",
      "Przybliżenie 16 wynosi 1.4142135623728214\n",
      "Przybliżenie 17 wynosi 1.414213562373142\n",
      "Przybliżenie 18 wynosi 1.414213562373087\n",
      "Przybliżenie 19 wynosi 1.4142135623730965\n",
      "Przybliżenie 20 wynosi 1.414213562373095\n",
      "Przybliżenie 21 wynosi 1.4142135623730951\n",
      "Przybliżenie 22 wynosi 1.4142135623730951\n",
      "Przybliżenie 23 wynosi 1.4142135623730951\n",
      "Przybliżenie 24 wynosi 1.4142135623730951\n"
     ]
    }
   ],
   "source": [
    "def sqrt2_continued_fraction(n):\n",
    "    tmp = 2\n",
    "    for i in reversed(range(1,n)):\n",
    "        tmp = 2 + 1 / tmp\n",
    "    return 1+1/tmp\n",
    "\n",
    "for i in range(5,25):\n",
    "    print(f'Przybliżenie {i} wynosi {sqrt2_continued_fraction(i)}')"
   ]
  },
  {
   "cell_type": "markdown",
   "id": "c5fcc6f4",
   "metadata": {
    "slideshow": {
     "slide_type": "subslide"
    }
   },
   "source": [
    "## Wzór Taylora\n",
    "Dostępna jest również formuła oparta o wzór Taylora postaci:\n",
    "\n",
    "$$\n",
    "\\sqrt{2} = \\sum_{n=0}^\\infty \\frac{(2k+1)!}{(k!)^2 \\cdot 2^{3k+1}}\n",
    "$$"
   ]
  },
  {
   "cell_type": "code",
   "execution_count": 22,
   "id": "064c4910",
   "metadata": {
    "slideshow": {
     "slide_type": "subslide"
    }
   },
   "outputs": [
    {
     "name": "stdout",
     "output_type": "stream",
     "text": [
      "Przybliżenie 1 wynosi 0.5\n",
      "Przybliżenie 2 wynosi 0.875\n",
      "Przybliżenie 3 wynosi 1.109375\n",
      "Przybliżenie 4 wynosi 1.24609375\n",
      "Przybliżenie 5 wynosi 1.322998046875\n",
      "Przybliżenie 6 wynosi 1.36529541015625\n",
      "Przybliżenie 7 wynosi 1.3882064819335938\n",
      "Przybliżenie 8 wynosi 1.4004802703857422\n",
      "Przybliżenie 9 wynosi 1.407000720500946\n",
      "Przybliżenie 10 wynosi 1.4104420691728592\n",
      "Przybliżenie 11 wynosi 1.4122487772256136\n",
      "Przybliżenie 12 wynosi 1.4131931927986443\n",
      "Przybliżenie 13 wynosi 1.4136850759095978\n",
      "Przybliżenie 14 wynosi 1.4139404767556698\n",
      "Przybliżenie 15 wynosi 1.4140727379081\n",
      "Przybliżenie 16 wynosi 1.4141410728368555\n",
      "Przybliżenie 17 wynosi 1.4141763080344951\n",
      "Przybliżenie 18 wynosi 1.414194443797986\n",
      "Przybliżenie 19 wynosi 1.4142037635653355\n"
     ]
    }
   ],
   "source": [
    "def sqrt2_taylor_euler(n):\n",
    "    result = 0.5\n",
    "    k2p1 = 1\n",
    "    two_power = 2\n",
    "    kp2 = 1\n",
    "    for i in range(1,n):\n",
    "        k2p1 *= (2*i) * (2*i+1)\n",
    "        kp2 *= i*i\n",
    "        two_power *= 8\n",
    "        result += k2p1/kp2/two_power\n",
    "    return result\n",
    "for i in range(1,20):\n",
    "    print(f'Przybliżenie {i} wynosi {sqrt2_taylor_euler(i)}')"
   ]
  },
  {
   "cell_type": "markdown",
   "id": "62afebea",
   "metadata": {
    "slideshow": {
     "slide_type": "subslide"
    }
   },
   "source": [
    "## Iteracja prosta\n",
    "\n",
    "Najczęstszym wyborem do przybliżania pierwiastka $\\sqrt{2}$ jest wykorzystanie iteracji prostej do odszukania. Zauważmy, że równanie $ x^2 = 2 $ ma rozwiązanie dodatnie właśnie $\\sqrt{2}$. Jednak równanie to wymaga przekształceń aby uzyskać jego zbieżność\n",
    "$$\n",
    "\\frac{x^2}{2} = 1 \n",
    "$$\n",
    "\n",
    "$$\n",
    "x^2 = \\frac{x^2}{2} + 1\n",
    "$$\n",
    "\n",
    "$$\n",
    "x = \\frac{x}{2} + \\frac{1}{x}\n",
    "$$"
   ]
  },
  {
   "cell_type": "code",
   "execution_count": 23,
   "id": "caf07f03",
   "metadata": {
    "slideshow": {
     "slide_type": "subslide"
    }
   },
   "outputs": [
    {
     "name": "stdout",
     "output_type": "stream",
     "text": [
      "Przybliżenie 1 wynosi 1.4142198581560284\n",
      "Przybliżenie 2 wynosi 1.4142135623871086\n",
      "Przybliżenie 3 wynosi 1.414213562373095\n",
      "Przybliżenie 4 wynosi 1.414213562373095\n",
      "Przybliżenie 5 wynosi 1.414213562373095\n",
      "Przybliżenie 6 wynosi 1.414213562373095\n",
      "Przybliżenie 7 wynosi 1.414213562373095\n",
      "Przybliżenie 8 wynosi 1.414213562373095\n",
      "Przybliżenie 9 wynosi 1.414213562373095\n",
      "Przybliżenie 10 wynosi 1.414213562373095\n",
      "Przybliżenie 11 wynosi 1.414213562373095\n",
      "Przybliżenie 12 wynosi 1.414213562373095\n",
      "Przybliżenie 13 wynosi 1.414213562373095\n",
      "Przybliżenie 14 wynosi 1.414213562373095\n",
      "Przybliżenie 15 wynosi 1.414213562373095\n",
      "Przybliżenie 16 wynosi 1.414213562373095\n",
      "Przybliżenie 17 wynosi 1.414213562373095\n",
      "Przybliżenie 18 wynosi 1.414213562373095\n",
      "Przybliżenie 19 wynosi 1.414213562373095\n"
     ]
    }
   ],
   "source": [
    "def sqrt2_iteration(n):\n",
    "    a = 1.41\n",
    "    for i in range(n):\n",
    "          a = a/2 + 1/a\n",
    "    return a\n",
    "\n",
    "for i in range(1,20):\n",
    "    print(f'Przybliżenie {i} wynosi {sqrt2_iteration(i)}')"
   ]
  },
  {
   "cell_type": "markdown",
   "id": "e7dbfaba",
   "metadata": {
    "slideshow": {
     "slide_type": "slide"
    }
   },
   "source": [
    "# Inne funkcje"
   ]
  },
  {
   "cell_type": "markdown",
   "id": "2ac3ad46",
   "metadata": {
    "slideshow": {
     "slide_type": "subslide"
    }
   },
   "source": [
    "# Obliczenia trudnych funkcji\n",
    "\n",
    "W poprzedniej części obserwowaliśmy różne sposoby na przybliżanie liczb. Dostępna nam tam była mnogość metod. Wyobraźmy sobie jak dużo bardziej różnorodnym może być zadanie przybliżania funkcji. Tymczasem okazuje się, że w niemal każda technika opiera się na stosowaniu wzoru Taylora:\n",
    "\n",
    "**Twierdzenie Taylora**\n",
    "*Niech $[a,b] \\subset \\mathbb{R} $ pewien przedział oraz $ f: [a,b] \\to \\mathbb{R}$ będzie funkcją $(n+1)$ różniczkowalną na przedziale $[a,b]$ w sposób ciągły. Wówczas dla każdego punktu z przedziału $(a,b)$ spełniony jest następujący wzór\n",
    "$$\n",
    "f(x) = f(a) + \\frac{x-a}{1!} f^{(1)}(a) + \\frac{(x-a)^2}{2!} f^{(2)}(a) + \\ldots + \\frac{(x-a)^n}{n!} + \\frac{(x-a)^{n+1}}{(n+1)!} f^{(n+1)} (\\xi),\n",
    "$$\n",
    "gdzie $\\xi \\in [x,a]$ (gdy $x < a$ lub do $[a,x]$ jeśli $x >a$)*"
   ]
  },
  {
   "cell_type": "markdown",
   "id": "6305a1fc",
   "metadata": {
    "slideshow": {
     "slide_type": "subslide"
    }
   },
   "source": [
    "Przypominjmy w tym miejscu kilka z najważniejszych rozwinięć funkcji\n",
    "\n",
    "| Funkcja &nbsp; &nbsp; &nbsp; &nbsp; &nbsp; &nbsp; &nbsp; &nbsp; | Rozwinięcie &nbsp; &nbsp; &nbsp; &nbsp; &nbsp; &nbsp; &nbsp; &nbsp; &nbsp; &nbsp; &nbsp; &nbsp; &nbsp; &nbsp; &nbsp; &nbsp; &nbsp; &nbsp; &nbsp; &nbsp; &nbsp; &nbsp; |\n",
    "| :------------- | -------------: |\n",
    "| $e^x$  | $ 1+ x + \\frac{x^2}{2!} + \\frac{x^3}{3!} + \\frac{x^4}{4!} + \\ldots  $  |\n",
    "| $\\sin(x)$  | $ x - \\frac{x^3}{3!} + \\frac{x^5}{5!} - \\frac{x^7}{7!} + \\ldots $  |\n",
    "| $\\cos(x)$  | $ 1 - \\frac{x^2}{2!} + \\frac{x^4}{4!} - \\frac{x^6}{6!} + \\ldots $  |\n",
    "| $\\frac{1}{1+x}$, $-1 < x < 1 $  | $ 1 - x + x^2 - x^3 + x^4 -x^5 + \\ldots $  |\n",
    "\n"
   ]
  },
  {
   "cell_type": "markdown",
   "id": "aaed6e91",
   "metadata": {
    "slideshow": {
     "slide_type": "subslide"
    }
   },
   "source": [
    "Oprócz tego dostępne są nam techniki oparte ułamki łańcuchowe w kilku wybranych przypadkach, np.\n",
    "$$\n",
    "e^x = 1 + \\frac{x}{\n",
    "1 - \\frac{x}{\n",
    "    2 + \\frac{x}{\n",
    "        3- \\frac{x}{\n",
    "            2+\\frac{x}{\n",
    "                5 - \\frac{x}{2+\\ldots}\n",
    "                }\n",
    "            } \n",
    "        }\n",
    "    } \n",
    "}\n",
    "$$\n",
    "$$\n",
    "\\tan x = \\frac{1}{\n",
    "\\frac{1}{x} - \\frac{1}{\n",
    "    \\frac{3}{x} - \\frac{1}{\n",
    "        \\frac{5}{x}- \\frac{1}{\n",
    "            \\frac{7}{x} - \\frac{1}{\n",
    "                \\frac{9}{x} - \\ldots\n",
    "                }\n",
    "            } \n",
    "        }\n",
    "    } \n",
    "}\n",
    "$$\n",
    "\n",
    "Przyjrzyjmy się jedynie przykładowej implementacji wybranej funkcji"
   ]
  },
  {
   "cell_type": "code",
   "execution_count": 24,
   "id": "cb66b463",
   "metadata": {
    "slideshow": {
     "slide_type": "subslide"
    }
   },
   "outputs": [],
   "source": [
    "def my_sin(x, n):\n",
    "    result = x\n",
    "    temp_x = x\n",
    "    x_sqrt = x*x\n",
    "    factor = 1\n",
    "    for i in range(n):\n",
    "        temp_x *= x_sqrt\n",
    "        factor *= (4*i+3)*(4*i+2)\n",
    "        result -= temp_x / factor\n",
    "        temp_x *= x_sqrt\n",
    "        factor *= (4*i+5)*(4*i+4)\n",
    "        result += temp_x / factor\n",
    "    return result"
   ]
  },
  {
   "cell_type": "code",
   "execution_count": 25,
   "id": "ebd6800e",
   "metadata": {
    "slideshow": {
     "slide_type": "subslide"
    }
   },
   "outputs": [
    {
     "name": "stdout",
     "output_type": "stream",
     "text": [
      "Przybliżenie sin(1) wynosi 0.8414709848078965\n",
      "Przybliżenie sin(1) no 1 wynosi 0.8416666666666667\n",
      "Przybliżenie sin(1) no 2 wynosi 0.8414710097001764\n",
      "Przybliżenie sin(1) no 3 wynosi 0.8414709848086585\n",
      "Przybliżenie sin(1) no 4 wynosi 0.8414709848078965\n",
      "Przybliżenie sin(1) no 5 wynosi 0.8414709848078965\n",
      "Przybliżenie sin(1) no 6 wynosi 0.8414709848078965\n",
      "Przybliżenie sin(1) no 7 wynosi 0.8414709848078965\n",
      "Przybliżenie sin(1) no 8 wynosi 0.8414709848078965\n",
      "Przybliżenie sin(1) no 9 wynosi 0.8414709848078965\n"
     ]
    }
   ],
   "source": [
    "print(f'Przybliżenie sin(1) wynosi {math.sin(1)}')\n",
    "for i in range(1,10):\n",
    "    print(f'Przybliżenie sin(1) no {i} wynosi {my_sin(1,i)}')"
   ]
  },
  {
   "cell_type": "markdown",
   "id": "aaafb1fe",
   "metadata": {
    "slideshow": {
     "slide_type": "slide"
    }
   },
   "source": [
    "# Dziękuje za uwagę"
   ]
  }
 ],
 "metadata": {
  "celltoolbar": "Slideshow",
  "kernelspec": {
   "display_name": "Python 3 (ipykernel)",
   "language": "python",
   "name": "python3"
  },
  "language_info": {
   "codemirror_mode": {
    "name": "ipython",
    "version": 3
   },
   "file_extension": ".py",
   "mimetype": "text/x-python",
   "name": "python",
   "nbconvert_exporter": "python",
   "pygments_lexer": "ipython3",
   "version": "3.9.7"
  }
 },
 "nbformat": 4,
 "nbformat_minor": 5
}
