{
 "cells": [
  {
   "cell_type": "markdown",
   "metadata": {},
   "source": [
    "# Problemy wydawania reszty i problem plecakowy\n",
    "\n",
    "W tej lekcji zajmiemy się dwoma problemami algorytmicznymi. Oba one posiadają bardzo proste sformułowania - nie dajmy się jednak nabrać - gdyż okazuje się, że oba należą do grupy problemów NP. Przyjrzyjmy się obu zaczynając od nieco prostszego z nich.\n",
    "\n",
    "# Problem wydawania reszty\n",
    "\n",
    "Problem wydawania reszty można sformułować następująco:\n",
    "\n",
    "*Przypuśćmy, że zawieramy transakcję z pewną osobą. W jej efekcie musimy wydać pewną ilość pieniędzy. Otwieramy swój portfel i musimy teraz wybrać konkretne nominały aby 'zbudować' odliczoną kwotę*\n",
    "\n",
    "## Definicja\n",
    "\n",
    "Niech będzie dany zbiór nominałów $n_1, n_2, \\ldots, n_n$ (posortowanych rosnąco w sposób ostry $i < j \\Rightarrow n_i < n_j$) i kwota do wydania $C$. Wyznaczamy takie współczynniki nieujemne całkowite $x_1,\\ldots, x_n$, że \n",
    "$$\\sum_{j=1}^n n_j x_j = C,$$\n",
    "oraz użyto najmniejszej liczby monet tj. wartość\n",
    "$$\\sum_{j=1}^n x_j$$\n",
    "jest najmniejsza.\n",
    "\n",
    "## Opis problemu\n",
    "\n",
    "Jak widzimy problem oprócz samego wydania reszty zakłada minimalizację formy tej reszty. U jego podstaw leży oczywiście jakaś forma grzeczności - wydawanie zbyt dużej ilości monet/banknotów (tzw. rozliczanie się 1-groszówkami) wydaje się nieeleganckie i kłopotliwe dla drugiej strony. \n",
    "\n",
    "Problem ten występuje w dwóch wersjach:\n",
    "* klasycznej z nieograniczonym zasobem każdego z nominałów - w tej wersji jest on rozważany najczęściej przez algorytmików, oraz\n",
    "* z dodatkowymi ograniczeniami - w tej wersji dla każdego z nominałów może być dostępna jedynie określona ilość monet. Mamy więc dodatkowe ograniczenia postaci $x_i \\leq b_i$. \n",
    "\n",
    "Dla problemu kluczowa okazuje się jednak postać zbioru z nominałami. Istnieją matematyczne wyniki orzekające, że niektóre takie systemy nominałów posiadają szybkie liniowe algorytmy rozwiązujące. Istnieją również systemy nominałów przy których algorytmy te zawodzą a poszukiwanie rozwiązania problemu zdaje się mieć wykładniczą złożoność.\n",
    "\n",
    "Przykładem 'dobrego układu nominałów' może być ten którym się posługujemy tj. 1,2,5,10,20,50,100,200,500.\n",
    "Dla takich zbiorów nominałów optymalny okazuje się być następujący algorytm.\n",
    "\n",
    "## Algorytm zachłanny dla problemu reszty\n",
    "\n",
    "Podstawowym algorytmem rozwiązywania problemu jest tzw. algorytm zachłanny - czyli algorytm gdzie w danej sytuacji podejmujemy chwilowo najlepszą decyzję. Algorytmy te opierają się na przypuszczeniu, że rozwiązanie optymalne powstaje poprzez podejmowanie najlepszych decyzji na każdym etapie poszukiwań. Jak łatwo przypuszczać \n",
    "\n",
    "* algorytm taki, generuje jakościowo dobre rozwiązania problemów, ale\n",
    "* nie zawsze uzyskuje on jakościowo najlepsze rozwiązanie.\n",
    "\n",
    "W przypadku problemu wydawania reszty algorytm zachłanny polega na wybieraniu największego dostępnego nominału (tak aby maksymalnie pomniejszyć kwotę do dalszej wypłaty). Przyjrzyjmy się jego prostej implementacji"
   ]
  },
  {
   "cell_type": "code",
   "execution_count": 1,
   "metadata": {},
   "outputs": [],
   "source": [
    "K = 132\n",
    "\n",
    "nominaly = [1, 2, 5, 10, 20, 50]"
   ]
  },
  {
   "cell_type": "code",
   "execution_count": 2,
   "metadata": {},
   "outputs": [],
   "source": [
    "def change_making_greedy(K, nominaly):\n",
    "    nominaly.sort(reverse = True)\n",
    "    coins = []\n",
    "    for i in nominaly:\n",
    "        while K >= i:\n",
    "            coins.append(i)\n",
    "            K -= i\n",
    "    return coins"
   ]
  },
  {
   "cell_type": "code",
   "execution_count": 3,
   "metadata": {},
   "outputs": [
    {
     "data": {
      "text/plain": "[50, 50, 20, 10, 2]"
     },
     "execution_count": 3,
     "metadata": {},
     "output_type": "execute_result"
    }
   ],
   "source": [
    "change_making_greedy(K, nominaly)"
   ]
  },
  {
   "cell_type": "markdown",
   "metadata": {},
   "source": [
    "Jeśli interesuje nas ile monet potrzeba aby wypłacić resztę wystarczyło by dodać\n"
   ]
  },
  {
   "cell_type": "code",
   "execution_count": 4,
   "metadata": {},
   "outputs": [
    {
     "data": {
      "text/plain": "5"
     },
     "execution_count": 4,
     "metadata": {},
     "output_type": "execute_result"
    }
   ],
   "source": [
    "len(change_making_greedy(K, nominaly))"
   ]
  },
  {
   "cell_type": "markdown",
   "metadata": {},
   "source": [
    "Zauważmy jednak, że algorytm ten potrafi znaleźć nieoptymalne rozwiązanie. Rozważmy przykład\n"
   ]
  },
  {
   "cell_type": "code",
   "execution_count": 5,
   "metadata": {},
   "outputs": [
    {
     "data": {
      "text/plain": "[5, 1, 1, 1]"
     },
     "execution_count": 5,
     "metadata": {},
     "output_type": "execute_result"
    }
   ],
   "source": [
    "K = 8\n",
    "nominaly = [1,4,5]\n",
    "change_making_greedy(K,nominaly)"
   ]
  },
  {
   "cell_type": "markdown",
   "metadata": {},
   "source": [
    "Tymczasem"
   ]
  },
  {
   "cell_type": "code",
   "execution_count": 6,
   "metadata": {},
   "outputs": [
    {
     "data": {
      "text/plain": "8"
     },
     "execution_count": 6,
     "metadata": {},
     "output_type": "execute_result"
    }
   ],
   "source": [
    "4+4"
   ]
  },
  {
   "cell_type": "markdown",
   "metadata": {},
   "source": [
    "## Algorytm z zastosowaniem programowania dynamicznego\n",
    "\n",
    "Ogólna technika odszukiwania optymalnego rozwiązania wymaga bardziej zaawansowanego algorytmu. Dobre wyniki są zwracane przez techniki programowania dynamicznego. Idea jest następująca:\n",
    "\n",
    "1. Poszukujemy optymalnego sposobu na wydanie reszt mniejszych kwot,\n",
    "1. Budujemy reszty wyższych kwot poprzez parowanie wydania mniejszych reszt.\n",
    "\n",
    "Jak to działa. Wyobraźmy sobie, że mamy do wydania kwotę 100. \n",
    "Kwotę 100 można np. podzielić na 1+99. Jeśli mamy, że 99 możemy optymalnie wydać za pomocą k monet a 1 - 1 jedną monetą - to mamy pomysł by wydać 100 za pomocą k+1 monet. Nie możemy jednak na tym poprzestać. Trzeba sprawdzić \n",
    "\n",
    "* 2 + 98, \n",
    "* 3 + 97,\n",
    "* 4 + 96,\n",
    "* ...\n",
    "* 50 + 50;\n",
    "\n",
    "I ze wszystkich tych możliwości wybrać tę, która generuje resztę o minimalnej ilości monet."
   ]
  },
  {
   "cell_type": "code",
   "execution_count": 7,
   "metadata": {},
   "outputs": [],
   "source": [
    "def change_making_dynamic(K, nominaly, maks_size = 1000000):\n",
    "    change_making = {}\n",
    "    for i in range(1,K+1):\n",
    "        change_making[i] = [] #najpierw nie znamy przepisu na zadna z liczb\n",
    "    for i in range(1,K+1):\n",
    "        if i in nominaly: #jesli nasza liczba jest wsrod dostepnych nominalow - to najprosciej wydac ja na raz\n",
    "            change_making[i].append(i)\n",
    "            continue # nie ma bardziej optymalnego sposobu\n",
    "        # inaczej rozwazamy wszystkie pary i wyszukujemy najmniejszego zestawu reszt\n",
    "        min_size = maks_size\n",
    "        min_ind = 1\n",
    "        for j in range(1,i):\n",
    "            # len(change_making[j]) + len(change_making[i-j]) to ilosc monet w reszcie przy probie podzialu\n",
    "            # i na j + (i-j)\n",
    "            if min_size > len(change_making[j]) + len(change_making[i-j]):\n",
    "                min_size = len(change_making[j]) + len(change_making[i-j])\n",
    "                min_ind = j\n",
    "        # przypisanie najoptymalniejszego podziału (dowolnego tj pierwszego) do tablicy wyników\n",
    "        change_making[i] = change_making[min_ind].copy()\n",
    "        change_making[i].extend(change_making[i-min_ind])\n",
    "    return change_making"
   ]
  },
  {
   "cell_type": "code",
   "execution_count": 8,
   "metadata": {},
   "outputs": [
    {
     "data": {
      "text/plain": "{1: [1],\n 2: [1, 1],\n 3: [1, 1, 1],\n 4: [4],\n 5: [5],\n 6: [1, 5],\n 7: [1, 1, 5],\n 8: [4, 4],\n 9: [4, 5],\n 10: [5, 5],\n 11: [1, 5, 5],\n 12: [4, 4, 4],\n 13: [4, 4, 5],\n 14: [4, 5, 5],\n 15: [5, 5, 5],\n 16: [1, 5, 5, 5],\n 17: [4, 4, 4, 5],\n 18: [4, 4, 5, 5],\n 19: [4, 5, 5, 5],\n 20: [5, 5, 5, 5]}"
     },
     "execution_count": 8,
     "metadata": {},
     "output_type": "execute_result"
    }
   ],
   "source": [
    "K = 20\n",
    "nominaly = [1,4,5]\n",
    "change_making_dynamic(K,nominaly)"
   ]
  },
  {
   "cell_type": "markdown",
   "metadata": {},
   "source": [
    "# Problem plecakowy\n",
    "\n",
    "Problem plecakowy jest problemem nieco ogólniejszym od problemu wydawania reszty. Formułuje się go następująco:\n",
    "\n",
    "*Przypuśćmy, że ruszamy w podróż pieszą i możemy zabrać tylko pewną określoną ilość rzeczy. Z reguły ograniczeniem dla nas jest masa - gdyż nie możemy podróżować ze zbyt ciężkim plecakiem. Chcemy jednak aby plecak zawierał jedynie najpotrzebniejsze/najcenniejsze dla nas przedmioty.*\n",
    "\n",
    "## Definicja \n",
    "\n",
    "Rozważmy zbiór $n$ przedmiotów gdzie dla $i$-tego przedmiotu $v_i$ oznaczać będzie jego wartość oraz $w_i$ jego wagę. Poszukujemy takiego  układu wartości $x_i$, że dla każdego $i \\in \\{1,\\ldots, n\\}$ zachodzi $x_i \\in \\{ 0, 1 \\}$ spełniającego warunek nieprzepełniania plecaka\n",
    "$$\n",
    "\\sum_{i=1}^{n} w_i \\cdot x_i \\leq W,\n",
    "$$\n",
    "przy maksymalizacji jego wartości\n",
    "$$\n",
    "\\sum_{i=1}^{n} v_i \\cdot x_i \\to \\max. \n",
    "$$\n",
    "\n",
    "## Algorytm zachłanny\n",
    "\n",
    "Dla algorytmu plecakowego możemy rozważyć algorytm przybliżonego rozwiązywanie problemu w sposób zachłanny. Jego postać jest następująca\n",
    "\n",
    "1. Sortujemy obiekty wg malejącego stosunku cena do wagi.\n",
    "1. W danej chwili wybieramy pierwszy z listy element, który mieści się do plecaka\n",
    "\n"
   ]
  },
  {
   "cell_type": "code",
   "execution_count": 9,
   "metadata": {},
   "outputs": [],
   "source": [
    "# ['nazwa przedmiotu', wartosc, waga ]\n",
    "items = [ ['a', 2, 4] , ['b', 4, 2] , ['c', 2, 2], ['d', 3, 3], ['e', 4, 1] ]\n",
    "\n",
    "size = 6"
   ]
  },
  {
   "cell_type": "code",
   "execution_count": 10,
   "metadata": {},
   "outputs": [],
   "source": [
    "import copy\n",
    "\n",
    "def knapsack_greedy(items, size):\n",
    "    inner_items = copy.deepcopy(items)\n",
    "    for item in inner_items:\n",
    "        item.append(item[1]/item[2])\n",
    "    inner_items.sort(key=lambda x : x[3], reverse = True)\n",
    "    knapsack = {}\n",
    "    for item in inner_items:\n",
    "        if item[2] <= size:\n",
    "            size -= item[2]\n",
    "            knapsack[item[0]] = item[:]\n",
    "    return knapsack"
   ]
  },
  {
   "cell_type": "code",
   "execution_count": 11,
   "metadata": {},
   "outputs": [
    {
     "data": {
      "text/plain": "{'e': ['e', 4, 1, 4.0], 'b': ['b', 4, 2, 2.0], 'c': ['c', 2, 2, 1.0]}"
     },
     "execution_count": 11,
     "metadata": {},
     "output_type": "execute_result"
    }
   ],
   "source": [
    "knapsack_greedy(items, size)"
   ]
  },
  {
   "cell_type": "markdown",
   "metadata": {},
   "source": [
    "## Algorytm przeglądu zupełnego\n",
    "\n",
    "W przypadku gdy przedmioty mają nieskończoną liczność - możliwy jest analogiczny do problemu reszty - algorytm programowania dynamicznego. Jednak w tym najczęściej spotykanym przypadku - jedyny algorytm odszukujący poprawne rozwiązanie problemu jest algorytm przeglądu całkowitego.\n",
    "\n"
   ]
  },
  {
   "cell_type": "code",
   "execution_count": 12,
   "metadata": {},
   "outputs": [
    {
     "name": "stdout",
     "output_type": "stream",
     "text": [
      "()\n",
      "(['a', 2, 4],)\n",
      "(['b', 4, 2],)\n",
      "(['c', 2, 2],)\n",
      "(['d', 3, 3],)\n",
      "(['e', 4, 1],)\n",
      "(['a', 2, 4], ['b', 4, 2])\n",
      "(['a', 2, 4], ['c', 2, 2])\n",
      "(['a', 2, 4], ['d', 3, 3])\n",
      "(['a', 2, 4], ['e', 4, 1])\n",
      "(['b', 4, 2], ['c', 2, 2])\n",
      "(['b', 4, 2], ['d', 3, 3])\n",
      "(['b', 4, 2], ['e', 4, 1])\n",
      "(['c', 2, 2], ['d', 3, 3])\n",
      "(['c', 2, 2], ['e', 4, 1])\n",
      "(['d', 3, 3], ['e', 4, 1])\n",
      "(['a', 2, 4], ['b', 4, 2], ['c', 2, 2])\n",
      "(['a', 2, 4], ['b', 4, 2], ['d', 3, 3])\n",
      "(['a', 2, 4], ['b', 4, 2], ['e', 4, 1])\n",
      "(['a', 2, 4], ['c', 2, 2], ['d', 3, 3])\n",
      "(['a', 2, 4], ['c', 2, 2], ['e', 4, 1])\n",
      "(['a', 2, 4], ['d', 3, 3], ['e', 4, 1])\n",
      "(['b', 4, 2], ['c', 2, 2], ['d', 3, 3])\n",
      "(['b', 4, 2], ['c', 2, 2], ['e', 4, 1])\n",
      "(['b', 4, 2], ['d', 3, 3], ['e', 4, 1])\n",
      "(['c', 2, 2], ['d', 3, 3], ['e', 4, 1])\n",
      "(['a', 2, 4], ['b', 4, 2], ['c', 2, 2], ['d', 3, 3])\n",
      "(['a', 2, 4], ['b', 4, 2], ['c', 2, 2], ['e', 4, 1])\n",
      "(['a', 2, 4], ['b', 4, 2], ['d', 3, 3], ['e', 4, 1])\n",
      "(['a', 2, 4], ['c', 2, 2], ['d', 3, 3], ['e', 4, 1])\n",
      "(['b', 4, 2], ['c', 2, 2], ['d', 3, 3], ['e', 4, 1])\n",
      "(['a', 2, 4], ['b', 4, 2], ['c', 2, 2], ['d', 3, 3], ['e', 4, 1])\n"
     ]
    }
   ],
   "source": [
    "from itertools import chain, combinations\n",
    "\n",
    "def powerset(iterable):\n",
    "    \"powerset([1,2,3]) --> () (1,) (2,) (3,) (1,2) (1,3) (2,3) (1,2,3)\"\n",
    "    s = list(iterable)\n",
    "    return chain.from_iterable(combinations(s, r) for r in range(len(s)+1))\n",
    "\n",
    "for i in powerset(items):\n",
    "    print(i)"
   ]
  },
  {
   "cell_type": "code",
   "execution_count": 13,
   "metadata": {},
   "outputs": [],
   "source": [
    "def knapsack_full(items, size):\n",
    "    max_combination = None\n",
    "    max_value = 0\n",
    "    \n",
    "    def value_and_weight(combination):\n",
    "        value = 0\n",
    "        weight = 0\n",
    "        for item in combination:\n",
    "            value += item[1]\n",
    "            weight += item[2]\n",
    "        return value, weight\n",
    "    \n",
    "    for combination in powerset(items):\n",
    "        value, weight = value_and_weight(combination)\n",
    "        if weight > size:\n",
    "            continue\n",
    "        if value > max_value:\n",
    "            max_value = value\n",
    "            max_combination = combination\n",
    "    return max_combination"
   ]
  },
  {
   "cell_type": "code",
   "execution_count": 14,
   "metadata": {},
   "outputs": [
    {
     "data": {
      "text/plain": "(['b', 4, 2], ['d', 3, 3], ['e', 4, 1])"
     },
     "execution_count": 14,
     "metadata": {},
     "output_type": "execute_result"
    }
   ],
   "source": [
    "knapsack_full(items, size)"
   ]
  },
  {
   "cell_type": "code",
   "execution_count": 14,
   "metadata": {},
   "outputs": [],
   "source": []
  }
 ],
 "metadata": {
  "kernelspec": {
   "display_name": "Python 3",
   "language": "python",
   "name": "python3"
  },
  "language_info": {
   "codemirror_mode": {
    "name": "ipython",
    "version": 3
   },
   "file_extension": ".py",
   "mimetype": "text/x-python",
   "name": "python",
   "nbconvert_exporter": "python",
   "pygments_lexer": "ipython3",
   "version": "3.8.5"
  }
 },
 "nbformat": 4,
 "nbformat_minor": 2
}